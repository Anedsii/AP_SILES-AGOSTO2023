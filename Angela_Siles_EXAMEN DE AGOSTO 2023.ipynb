{
  "cells": [
    {
      "cell_type": "markdown",
      "metadata": {
        "id": "ftXnmgdtOuZs"
      },
      "source": [
        "# Universidad de Buenos Aires\n",
        "# Deep Learning - Examen\n",
        "# Agosto 2023\n",
        "\n"
      ]
    },
    {
      "cell_type": "markdown",
      "metadata": {
        "id": "aEx1gM2sG4OP"
      },
      "source": [
        "El examen comienza al momento de recibir este correo y la ventana de entrega estará abierta hasta el domingo 27 de Agosto a las 20:00hs. Toda comunicación con otros alumnos respecto del examen y la resolución de los ejercicios, queda estrictamente prohibida. Los exámenes serán comparados desde el punto de vista de la redacción, de los resultados y del código para determinar que el trabajo fue 100% individual y único. El examen es a libro abierto, pudiendo utilizar los contenidos vistos en clase y otra bibliografía. Todas las soluciones deben ser originales y si se toman ideas de fuentes externas deben ser correctamente citas incluyendo el correspondiente link o página de libro.\n",
        "\n",
        "El formato de entrega debe ser un “link a un colab” (compartir a las siguientes direcciones: maxit1992@gmail.com y lelectronfou@gmail.com ) o un “link a un notebook en un github público”.\n",
        "\n",
        "**Consideraciones a tener en cuenta:**\n",
        "- Se entregará 1 solo colab para la totalidad del examen.\n",
        "- Renombrar el archivo de la siguiente manera: **APELLIDO-NOMBRE-DL-Examen AGOSTO 2023.ipynb**\n",
        "- Los códigos deben poder ejecutarse.\n",
        "- Los resultados, cómo el código y las explicaciones deben quedar guardados y visualizables en el correspondiente link.\n",
        "- Prestar atención a las consignas, responder las preguntas cuando corresponda.\n",
        "\n"
      ]
    },
    {
      "cell_type": "markdown",
      "metadata": {
        "id": "nlfSxrehmuYW"
      },
      "source": [
        "## Ejercicio 1\n",
        "\n"
      ]
    },
    {
      "cell_type": "markdown",
      "metadata": {
        "id": "AwCiDRncfsaI"
      },
      "source": [
        "Dada la siguiente función:\n",
        "\n",
        "$$\n",
        "f(x,y) = (1.5 - x + xy)^2 + (2.25-x+xy^2)^2 + (2.625 -x + xy^3)^2\n",
        "$$\n",
        "\n",
        "\n",
        "Encontrar el punto donde la función es mínima y el valor de dicho mínimo:\n",
        "\n",
        "a. Utilizando SGD y cálculo de gradiente con regla de la cadena.\n",
        "\n",
        "b. Utilizando SGD y pytorch."
      ]
    },
    {
      "cell_type": "code",
      "execution_count": 3,
      "metadata": {
        "colab": {
          "base_uri": "https://localhost:8080/"
        },
        "id": "C1GmiyQOR7kI",
        "outputId": "c5c91fc8-c2de-43f7-de5a-2d4dccf1f20e"
      },
      "outputs": [
        {
          "name": "stdout",
          "output_type": "stream",
          "text": [
            "Valor mínimo: 0.0004663744511459746\n",
            "Valor de x en el mínimo: 2.947587456463631\n",
            "Valor de y en el mínimo: 0.48666352070055824\n"
          ]
        }
      ],
      "source": [
        "# Parámetros iniciales\n",
        "x = 1.0\n",
        "y = 1.0\n",
        "alpha = 0.01  # Tasa de aprendizaje\n",
        "num_iterations = 1000\n",
        "\n",
        "# Iteraciones de SGD\n",
        "for _ in range(num_iterations):\n",
        "    # Calcular las derivadas parciales\n",
        "    df_dx = 2 * (1.5 - x + x * y) * (-1) + 2 * (2.25 - x + x * y**2) * (-1) + 2 * (2.625 - x + x * y**3) * (-1)\n",
        "    df_dy = 2 * (1.5 - x + x * y) * x + 2 * (2.25 - x + x * y**2) * (2 * x * y) + 2 * (2.625 - x + x * y**3) * (3 * x * y**2)\n",
        "\n",
        "    # Actualizar x e y\n",
        "    x = x - alpha * df_dx\n",
        "    y = y - alpha * df_dy\n",
        "\n",
        "# Calcular el valor mínimo\n",
        "min_value = (1.5 - x + x * y)**2 + (2.25 - x + x * y**2)**2 + (2.625 - x + x * y**3)**2\n",
        "\n",
        "print(\"Valor mínimo:\", min_value)\n",
        "print(\"Valor de x en el mínimo:\", x)\n",
        "print(\"Valor de y en el mínimo:\", y)\n"
      ]
    },
    {
      "cell_type": "code",
      "execution_count": 2,
      "metadata": {
        "colab": {
          "base_uri": "https://localhost:8080/"
        },
        "id": "zgGujYhuSmdn",
        "outputId": "861c668e-9bc8-48d4-b0e0-cb68e68dbaae"
      },
      "outputs": [
        {
          "name": "stdout",
          "output_type": "stream",
          "text": [
            "Valor mínimo: 5.145143222762272e-05\n",
            "Valor de x en el mínimo: 2.9822511672973633\n",
            "Valor de y en el mínimo: 0.4955354332923889\n"
          ]
        }
      ],
      "source": [
        "import torch\n",
        "from torch.autograd import Variable\n",
        "\n",
        "# Definir la función\n",
        "def f(x, y):\n",
        "    return (1.5 - x + x*y)**2 + (2.25 - x + x*y**2)**2 + (2.625 - x + x*y**3)**2\n",
        "\n",
        "# Inicializar los valores de x e y como tensores PyTorch\n",
        "x = Variable(torch.tensor(1.0), requires_grad=True)\n",
        "y = Variable(torch.tensor(1.0), requires_grad=True)\n",
        "\n",
        "# Definir el optimizador SGD con tasa de aprendizaje\n",
        "optimizer = torch.optim.SGD([x, y], lr=0.01)\n",
        "\n",
        "# Número de iteraciones\n",
        "num_iterations = 1000\n",
        "\n",
        "# Realizar las iteraciones\n",
        "for _ in range(num_iterations):\n",
        "    # Calcular la función\n",
        "    output = f(x, y)\n",
        "\n",
        "    # Calcular los gradientes\n",
        "    optimizer.zero_grad()\n",
        "    output.backward()\n",
        "\n",
        "    # Actualizar los valores de x e y\n",
        "    optimizer.step()\n",
        "\n",
        "# Obtener el valor mínimo y los valores de x e y\n",
        "min_value = f(x, y).item()\n",
        "min_x = x.item()\n",
        "min_y = y.item()\n",
        "\n",
        "print(\"Valor mínimo:\", min_value)\n",
        "print(\"Valor de x en el mínimo:\", min_x)\n",
        "print(\"Valor de y en el mínimo:\", min_y)\n"
      ]
    },
    {
      "cell_type": "markdown",
      "metadata": {
        "id": "4CMta3Dj_Mjq"
      },
      "source": [
        "## Ejercicio 2"
      ]
    },
    {
      "cell_type": "markdown",
      "metadata": {
        "id": "C_hXG5W6KMBx"
      },
      "source": [
        "Si tiene una imagen a procesar de 1024x720x3 y desea aplicar en cascada, 2 capas de convolución, seguido por una capa de activación y una de pooling,  con las siguientes características:\n",
        "\n",
        "*Conv1:*\n",
        "* tamaño kernel = 7x7\n",
        "* padding = 2\n",
        "* stride = 1\n",
        "* número de kernel = 16\n",
        "\n",
        "*Conv2:*\n",
        "* tamaño kernel = 5x5\n",
        "* padding = 0\n",
        "* stride = 1\n",
        "* número de kernel = 32\n",
        "\n",
        "*activación*\n",
        "* Tanh()\n",
        "\n",
        "*pooling*\n",
        "* tamaño pooling = 5x5\n",
        "* padding pooling = 0\n",
        "* stride pooling = 5\n",
        "\n",
        "a) ¿Cual es el tamaño final de la salida y cuantos canales tiene?\n",
        "\n",
        "b) Si tiene que conectar esa salida a una `fully_connected` para clasificar 3 clases ¿que tamaño debe tener?\n",
        "\n",
        "\n",
        "\n",
        "\n"
      ]
    },
    {
      "cell_type": "markdown",
      "metadata": {
        "id": "2THWQ6FLuTWT"
      },
      "source": [
        "a) El tamaño final de la salida después de aplicar las capas de convolución, activación y pooling será impreso en la variable dimensions.\n",
        "\n",
        "b) El tamaño requerido para la capa completamente conectada se calculará y se imprimirá en output_fc.shape."
      ]
    },
    {
      "cell_type": "code",
      "execution_count": 5,
      "metadata": {
        "colab": {
          "base_uri": "https://localhost:8080/"
        },
        "id": "TmdrvEjAkJq0",
        "outputId": "c538798c-7132-473d-bcb5-285dd0767516"
      },
      "outputs": [
        {
          "name": "stdout",
          "output_type": "stream",
          "text": [
            "Collecting miceforest\n",
            "  Downloading miceforest-5.6.3-py3-none-any.whl (57 kB)\n",
            "\u001b[?25l     \u001b[90m━━━━━━━━━━━━━━━━━━━━━━━━━━━━━━━━━━━━━━━━\u001b[0m \u001b[32m0.0/58.0 kB\u001b[0m \u001b[31m?\u001b[0m eta \u001b[36m-:--:--\u001b[0m\r\u001b[2K     \u001b[91m━━━━━━━━━━━━━━━━━━━━━━━━━━━━━━━━━━━\u001b[0m\u001b[90m╺\u001b[0m\u001b[90m━━━━\u001b[0m \u001b[32m51.2/58.0 kB\u001b[0m \u001b[31m1.6 MB/s\u001b[0m eta \u001b[36m0:00:01\u001b[0m\r\u001b[2K     \u001b[90m━━━━━━━━━━━━━━━━━━━━━━━━━━━━━━━━━━━━━━━━\u001b[0m \u001b[32m58.0/58.0 kB\u001b[0m \u001b[31m1.3 MB/s\u001b[0m eta \u001b[36m0:00:00\u001b[0m\n",
            "\u001b[?25hRequirement already satisfied: lightgbm>=3.3.1 in /usr/local/lib/python3.10/dist-packages (from miceforest) (4.0.0)\n",
            "Requirement already satisfied: numpy in /usr/local/lib/python3.10/dist-packages (from miceforest) (1.23.5)\n",
            "Collecting blosc (from miceforest)\n",
            "  Downloading blosc-1.11.1-cp310-cp310-manylinux_2_17_x86_64.manylinux2014_x86_64.whl (2.5 MB)\n",
            "\u001b[2K     \u001b[90m━━━━━━━━━━━━━━━━━━━━━━━━━━━━━━━━━━━━━━━━\u001b[0m \u001b[32m2.5/2.5 MB\u001b[0m \u001b[31m13.3 MB/s\u001b[0m eta \u001b[36m0:00:00\u001b[0m\n",
            "\u001b[?25hCollecting dill (from miceforest)\n",
            "  Downloading dill-0.3.7-py3-none-any.whl (115 kB)\n",
            "\u001b[2K     \u001b[90m━━━━━━━━━━━━━━━━━━━━━━━━━━━━━━━━━━━━━━\u001b[0m \u001b[32m115.3/115.3 kB\u001b[0m \u001b[31m14.3 MB/s\u001b[0m eta \u001b[36m0:00:00\u001b[0m\n",
            "\u001b[?25hRequirement already satisfied: scipy in /usr/local/lib/python3.10/dist-packages (from lightgbm>=3.3.1->miceforest) (1.10.1)\n",
            "Installing collected packages: dill, blosc, miceforest\n",
            "Successfully installed blosc-1.11.1 dill-0.3.7 miceforest-5.6.3\n"
          ]
        }
      ],
      "source": [
        "!pip install miceforest"
      ]
    },
    {
      "cell_type": "code",
      "execution_count": 15,
      "metadata": {
        "id": "NyRCvioAj3RL"
      },
      "outputs": [],
      "source": [
        "# Import\n",
        "import pandas as pd\n",
        "import numpy as np\n",
        "import matplotlib.pyplot as plt\n",
        "import seaborn as sns\n",
        "from miceforest import ImputationKernel\n",
        "from sklearn import metrics\n",
        "import torch\n",
        "\n"
      ]
    },
    {
      "cell_type": "code",
      "execution_count": 14,
      "metadata": {
        "colab": {
          "base_uri": "https://localhost:8080/"
        },
        "id": "ARKrGcPJj4l6",
        "outputId": "3c02a5ea-5456-43cc-cd22-3aa7fc59f007"
      },
      "outputs": [
        {
          "name": "stdout",
          "output_type": "stream",
          "text": [
            "Tamaño de la imagen de entrada: torch.Size([1, 3, 1024, 720])\n",
            "Tamaño de la imagen de salida:\n",
            "torch.Size([1, 32, 203, 142])\n",
            "Salida de la capa completamente conectada:\n",
            "torch.Size([1, 3])\n"
          ]
        }
      ],
      "source": [
        "# Generando una imagen con el tamaño dado: 1024 x 720 x 3\n",
        "img = torch.rand(1, 3, 1024, 720)\n",
        "# Dimensiones: (N, # Canales, H, W)\n",
        "# Imprimiendo el tamaño de la imagen\n",
        "print(\"Tamaño de la imagen de entrada:\", img.shape)\n",
        "\n",
        "# Definiendo las capas\n",
        "# Capa de convolución 1\n",
        "conv_layer_1 = torch.nn.Conv2d(in_channels=3, out_channels=16, kernel_size=7, padding=2, stride=1)\n",
        "# Capa de convolución 2\n",
        "conv_layer_2 = torch.nn.Conv2d(in_channels=16, out_channels=32, kernel_size=5, padding=0, stride=1)\n",
        "# Capa de activación\n",
        "activation_layer = torch.nn.Tanh()\n",
        "# Capa de pooling máximo\n",
        "pooling_layer = torch.nn.MaxPool2d(kernel_size=5, stride=5, padding=0, ceil_mode=False)\n",
        "\n",
        "# Paso hacia adelante (Forward)\n",
        "x = conv_layer_1(img)\n",
        "x = conv_layer_2(x)\n",
        "x = activation_layer(x)\n",
        "output = pooling_layer(x)\n",
        "print(\"Tamaño de la imagen de salida:\")\n",
        "dimensions = output.shape\n",
        "print(dimensions)\n",
        "\n",
        "# Capa completamente conectada (fully connected)\n",
        "# Ajustar la dimensión de entrada para la capa completamente conectada\n",
        "fully_connected_layer = torch.nn.Linear(in_features=dimensions[1]*dimensions[2]*dimensions[3], out_features=3)\n",
        "output_fc = fully_connected_layer(output.view(output.shape[0], -1))\n",
        "print(\"Salida de la capa completamente conectada:\")\n",
        "print(output_fc.shape)\n"
      ]
    },
    {
      "cell_type": "markdown",
      "metadata": {
        "id": "fvsqmJwx_Rb8"
      },
      "source": [
        "## Ejercicio 3\n",
        "\n"
      ]
    },
    {
      "cell_type": "markdown",
      "metadata": {
        "id": "ABeIRvAkKLy7"
      },
      "source": [
        "\n",
        "Para la siguiente red neuronal recurrente, se pide expresar las ecuaciones \"*unfolded*\" de la salida de la misma y de sus estados ocultos, si el vector de entrada son 3 muestras secuenciadas de la variable $x(t)$.\n",
        "\n",
        "![b](https://drive.google.com/uc?export=view&id=1Fz46GTK7Oy_w5OEgwLCLfHFMr7b6-AnL)\n",
        "\n",
        "\n",
        "\n",
        "\n",
        "Ecuaciones de la RNN:\n",
        "\n",
        "$$ \\hat{y}(t) = w_{h1y} * h1(t) + w_{h2y} * h2(t) + by$$\n",
        "\n",
        "$$ h1(t) = w_{xh1} * x(t) + w_{h1h1} * h1(t-1) + w_{h2h1} * h2(t-1)+ bh1$$\n",
        "$$ h2(t) = w_{xh2} * x(t) + w_{h2h2} * h2(t-1) + w_{h1h2} * h1(t-1)+ bh2 $$"
      ]
    },
    {
      "cell_type": "code",
      "execution_count": 19,
      "metadata": {
        "id": "GWX2hGHhyLCg"
      },
      "outputs": [],
      "source": [
        "# Parámetros de la red neuronal recurrente, ** valores ramdom ***\n",
        "w_h1y = 0.5\n",
        "w_h2y = 0.7\n",
        "by = 0.3\n",
        "\n",
        "w_xh1 = 0.2\n",
        "w_h1h1 = 0.4\n",
        "w_h2h1 = -0.1\n",
        "bh1 = -0.1\n",
        "\n",
        "w_xh2 = -0.3\n",
        "w_h2h2 = 0.6\n",
        "w_h1h2 = 0.2\n",
        "bh2 = 0.5\n",
        "\n",
        "# Valores iniciales\n",
        "h1_prev = 0.0  # Estado oculto 1 en t=-1\n",
        "h2_prev = 0.0  # Estado oculto 2 en t=-1\n",
        "\n",
        "# Entradas en diferentes tiempos\n",
        "x_t0 = 0.0\n",
        "x_t1 = 0.8\n",
        "x_t2 = -0.5\n",
        "######################################################################################################\n",
        "# Calculando la salida y los estados ocultos desplegados en el tiempo\n",
        "h1_t0 = w_xh1 * x_t0 + w_h1h1 * h1_prev + w_h2h1 * h2_prev + bh1\n",
        "h2_t0 = w_xh2 * x_t0 + w_h2h2 * h2_prev + w_h1h2 * h1_prev + bh2\n",
        "y_t0 = w_h1y * h1_t0 + w_h2y * h2_t0 + by\n",
        "\n",
        "h1_t1 = w_xh1 * x_t1 + w_h1h1 * h1_t0 + w_h2h1 * h2_t0 + bh1\n",
        "h2_t1 = w_xh2 * x_t1 + w_h2h2 * h2_t0 + w_h1h2 * h1_t0 + bh2\n",
        "y_t1 = w_h1y * h1_t1 + w_h2y * h2_t1 + by\n",
        "\n",
        "h1_t2 = w_xh1 * x_t2 + w_h1h1 * h1_t1 + w_h2h1 * h2_t1 + bh1\n",
        "h2_t2 = w_xh2 * x_t2 + w_h2h2 * h2_t1 + w_h1h2 * h1_t1 + bh2\n",
        "y_t2 = w_h1y * h1_t2 + w_h2y * h2_t2 + by\n",
        "#######################################################################################################\n",
        "#print(\"Salida y(t=0):\", y_t0)\n",
        "#print(\"Estado oculto 1 h1(t=0):\", h1_t0)\n",
        "#print(\"Estado oculto 2 h2(t=0):\", h2_t0)\n",
        "\n",
        "#print(\"Salida y(t=1):\", y_t1)\n",
        "#print(\"Estado oculto 1 h1(t=1):\", h1_t1)\n",
        "#print(\"Estado oculto 2 h2(t=1):\", h2_t1)\n",
        "\n",
        "#print(\"Salida y(t=2):\", y_t2)\n",
        "#print(\"Estado oculto 1 h1(t=2):\", h1_t2)\n",
        "#print(\"Estado oculto 2 h2(t=2):\", h2_t2)\n"
      ]
    },
    {
      "cell_type": "markdown",
      "metadata": {
        "id": "WL2PjUnT_Uvk"
      },
      "source": [
        "## Ejercicio 4"
      ]
    },
    {
      "cell_type": "markdown",
      "metadata": {
        "id": "73yqE_Sslwif"
      },
      "source": [
        "\n",
        "\n",
        "Descargar el dataset del siguiente link: https://drive.google.com/file/d/1X8_G5BpQMi-Nnbtms2RL8lcWSxzD8ixd/view?usp=sharing. El dataset son compras de productos que diferentes clientes realizaron durante un black sales. El dataset contiene información sobre las transacciones y el objetivo es poder utilizar el dataset para crear diferentes modelos que puedan predecir cuánto un cliente está dispuesto a gastar en un producto en el futuro. Particularmente, vamos a tratar este problema como una clasificación binaria donde queremos averiguar si el cliente va a gastar mucha plata (más de 9000) o poca plata (menos de 9000).\n",
        "\n",
        "- a)\tEntrenar un modelo de deep learning que no utilice embeddings y que no emplee el `user_id` ni el `product_id`.\n",
        "- b)\tEntrenar un modelo de deep learning que utilice embeddings tanto para los productos como los usuarios. Realizar el mapeo de identificador de producto y usuarios a indices antes de separar el dataset en training, validation y testing.\n",
        "- c)\tGrafique las curvas de la loss function en función de las epochs de cada modelo y comente lo necesario.\n",
        "- d) Compare el score de cada modelo.\n",
        "\n"
      ]
    },
    {
      "cell_type": "code",
      "execution_count": 1,
      "metadata": {
        "id": "eLQzdNeRjzym"
      },
      "outputs": [],
      "source": [
        "#Librerias\n",
        "import pandas as pd\n",
        "import numpy as np\n",
        "import matplotlib.pyplot as plt\n",
        "import seaborn as sns\n",
        "from miceforest import ImputationKernel\n",
        "from sklearn.preprocessing import LabelEncoder\n",
        "from sklearn import metrics\n",
        "import torch\n",
        "from torch.utils.data import Dataset, DataLoader"
      ]
    },
    {
      "cell_type": "code",
      "execution_count": 2,
      "metadata": {
        "colab": {
          "base_uri": "https://localhost:8080/"
        },
        "id": "0P6JOSuW6mz1",
        "outputId": "a74bebdb-1ffb-4dd3-ddbb-aea0832b607f"
      },
      "outputs": [
        {
          "name": "stdout",
          "output_type": "stream",
          "text": [
            "Archivo CSV cargado exitosamente.\n",
            "Número de filas: 550068\n",
            "Columnas: Index(['User_ID', 'Product_ID', 'Gender', 'Age', 'Occupation', 'City_Category',\n",
            "       'Stay_In_Current_City_Years', 'Marital_Status', 'Product_Category_1',\n",
            "       'Product_Category_2', 'Product_Category_3', 'Purchase'],\n",
            "      dtype='object')\n"
          ]
        }
      ],
      "source": [
        "\n",
        "# Ruta al archivo CSV\n",
        "csv_file_path = './data/dataset_black_sales.csv'\n",
        "\n",
        "# Intenta cargar el archivo CSV\n",
        "try:\n",
        "    df_blacks = pd.read_csv(csv_file_path)\n",
        "    print(\"Archivo CSV cargado exitosamente.\")\n",
        "    print(\"Número de filas:\", len(df_blacks))\n",
        "    print(\"Columnas:\", df_blacks.columns)\n",
        "except pd.errors.ParserError as e:\n",
        "    print(\"Error al cargar el archivo CSV:\", e)"
      ]
    },
    {
      "cell_type": "code",
      "execution_count": 3,
      "metadata": {},
      "outputs": [
        {
          "name": "stdout",
          "output_type": "stream",
          "text": [
            "<class 'pandas.core.frame.DataFrame'>\n",
            "RangeIndex: 550068 entries, 0 to 550067\n",
            "Data columns (total 12 columns):\n",
            " #   Column                      Non-Null Count   Dtype  \n",
            "---  ------                      --------------   -----  \n",
            " 0   User_ID                     550068 non-null  int64  \n",
            " 1   Product_ID                  550068 non-null  object \n",
            " 2   Gender                      550068 non-null  object \n",
            " 3   Age                         550068 non-null  object \n",
            " 4   Occupation                  550068 non-null  int64  \n",
            " 5   City_Category               550068 non-null  object \n",
            " 6   Stay_In_Current_City_Years  550068 non-null  object \n",
            " 7   Marital_Status              550068 non-null  int64  \n",
            " 8   Product_Category_1          550068 non-null  int64  \n",
            " 9   Product_Category_2          376430 non-null  float64\n",
            " 10  Product_Category_3          166821 non-null  float64\n",
            " 11  Purchase                    550068 non-null  int64  \n",
            "dtypes: float64(2), int64(5), object(5)\n",
            "memory usage: 50.4+ MB\n"
          ]
        },
        {
          "data": {
            "text/plain": [
              "User_ID                        5891\n",
              "Product_ID                     3631\n",
              "Gender                            2\n",
              "Age                               7\n",
              "Occupation                       21\n",
              "City_Category                     3\n",
              "Stay_In_Current_City_Years        5\n",
              "Marital_Status                    2\n",
              "Product_Category_1               20\n",
              "Product_Category_2               17\n",
              "Product_Category_3               15\n",
              "Purchase                      18105\n",
              "dtype: int64"
            ]
          },
          "execution_count": 3,
          "metadata": {},
          "output_type": "execute_result"
        }
      ],
      "source": [
        "# Check for dataset dimensions,datatype and number feature,unique values\n",
        "df_blacks.shape\n",
        "df_blacks.info()\n",
        "df_blacks.nunique()"
      ]
    },
    {
      "cell_type": "code",
      "execution_count": 4,
      "metadata": {},
      "outputs": [
        {
          "data": {
            "text/html": [
              "<div>\n",
              "<style scoped>\n",
              "    .dataframe tbody tr th:only-of-type {\n",
              "        vertical-align: middle;\n",
              "    }\n",
              "\n",
              "    .dataframe tbody tr th {\n",
              "        vertical-align: top;\n",
              "    }\n",
              "\n",
              "    .dataframe thead th {\n",
              "        text-align: right;\n",
              "    }\n",
              "</style>\n",
              "<table border=\"1\" class=\"dataframe\">\n",
              "  <thead>\n",
              "    <tr style=\"text-align: right;\">\n",
              "      <th></th>\n",
              "      <th>User_ID</th>\n",
              "      <th>Product_ID</th>\n",
              "      <th>Gender</th>\n",
              "      <th>Age</th>\n",
              "      <th>Occupation</th>\n",
              "      <th>City_Category</th>\n",
              "      <th>Stay_In_Current_City_Years</th>\n",
              "      <th>Marital_Status</th>\n",
              "      <th>Product_Category_1</th>\n",
              "      <th>Product_Category_2</th>\n",
              "      <th>Product_Category_3</th>\n",
              "      <th>Purchase</th>\n",
              "    </tr>\n",
              "  </thead>\n",
              "  <tbody>\n",
              "    <tr>\n",
              "      <th>0</th>\n",
              "      <td>1000001</td>\n",
              "      <td>P00069042</td>\n",
              "      <td>F</td>\n",
              "      <td>0-17</td>\n",
              "      <td>10</td>\n",
              "      <td>A</td>\n",
              "      <td>2</td>\n",
              "      <td>0</td>\n",
              "      <td>3</td>\n",
              "      <td>NaN</td>\n",
              "      <td>NaN</td>\n",
              "      <td>8370</td>\n",
              "    </tr>\n",
              "    <tr>\n",
              "      <th>1</th>\n",
              "      <td>1000001</td>\n",
              "      <td>P00248942</td>\n",
              "      <td>F</td>\n",
              "      <td>0-17</td>\n",
              "      <td>10</td>\n",
              "      <td>A</td>\n",
              "      <td>2</td>\n",
              "      <td>0</td>\n",
              "      <td>1</td>\n",
              "      <td>6.0</td>\n",
              "      <td>14.0</td>\n",
              "      <td>15200</td>\n",
              "    </tr>\n",
              "    <tr>\n",
              "      <th>2</th>\n",
              "      <td>1000001</td>\n",
              "      <td>P00087842</td>\n",
              "      <td>F</td>\n",
              "      <td>0-17</td>\n",
              "      <td>10</td>\n",
              "      <td>A</td>\n",
              "      <td>2</td>\n",
              "      <td>0</td>\n",
              "      <td>12</td>\n",
              "      <td>NaN</td>\n",
              "      <td>NaN</td>\n",
              "      <td>1422</td>\n",
              "    </tr>\n",
              "    <tr>\n",
              "      <th>3</th>\n",
              "      <td>1000001</td>\n",
              "      <td>P00085442</td>\n",
              "      <td>F</td>\n",
              "      <td>0-17</td>\n",
              "      <td>10</td>\n",
              "      <td>A</td>\n",
              "      <td>2</td>\n",
              "      <td>0</td>\n",
              "      <td>12</td>\n",
              "      <td>14.0</td>\n",
              "      <td>NaN</td>\n",
              "      <td>1057</td>\n",
              "    </tr>\n",
              "    <tr>\n",
              "      <th>4</th>\n",
              "      <td>1000002</td>\n",
              "      <td>P00285442</td>\n",
              "      <td>M</td>\n",
              "      <td>55+</td>\n",
              "      <td>16</td>\n",
              "      <td>C</td>\n",
              "      <td>4+</td>\n",
              "      <td>0</td>\n",
              "      <td>8</td>\n",
              "      <td>NaN</td>\n",
              "      <td>NaN</td>\n",
              "      <td>7969</td>\n",
              "    </tr>\n",
              "  </tbody>\n",
              "</table>\n",
              "</div>"
            ],
            "text/plain": [
              "   User_ID Product_ID Gender   Age  Occupation City_Category  \\\n",
              "0  1000001  P00069042      F  0-17          10             A   \n",
              "1  1000001  P00248942      F  0-17          10             A   \n",
              "2  1000001  P00087842      F  0-17          10             A   \n",
              "3  1000001  P00085442      F  0-17          10             A   \n",
              "4  1000002  P00285442      M   55+          16             C   \n",
              "\n",
              "  Stay_In_Current_City_Years  Marital_Status  Product_Category_1  \\\n",
              "0                          2               0                   3   \n",
              "1                          2               0                   1   \n",
              "2                          2               0                  12   \n",
              "3                          2               0                  12   \n",
              "4                         4+               0                   8   \n",
              "\n",
              "   Product_Category_2  Product_Category_3  Purchase  \n",
              "0                 NaN                 NaN      8370  \n",
              "1                 6.0                14.0     15200  \n",
              "2                 NaN                 NaN      1422  \n",
              "3                14.0                 NaN      1057  \n",
              "4                 NaN                 NaN      7969  "
            ]
          },
          "execution_count": 4,
          "metadata": {},
          "output_type": "execute_result"
        }
      ],
      "source": [
        "df_blacks.head()"
      ]
    },
    {
      "cell_type": "code",
      "execution_count": 5,
      "metadata": {},
      "outputs": [
        {
          "data": {
            "image/png": "[encoded data removed]",
            "text/plain": [
              "<Figure size 2200x1000 with 9 Axes>"
            ]
          },
          "metadata": {},
          "output_type": "display_data"
        }
      ],
      "source": [
        "# Función para mostrar la distribución del dataset\n",
        "def display_dataset_distributions(dataset):\n",
        "    # Crear histogramas para cada columna\n",
        "    fig = dataset.hist(xlabelsize=12, ylabelsize=12, figsize=(22, 10))\n",
        "    \n",
        "    # Ajustar los títulos y tamaños de letra de los ejes\n",
        "    [x.title.set_size(14) for x in fig.ravel()]\n",
        "    \n",
        "    # Ajustar el diseño para evitar superposiciones\n",
        "    plt.tight_layout()\n",
        "    \n",
        "    # Mostrar los histogramas\n",
        "    plt.show()\n",
        "\n",
        "# Mostrar la distribución del dataset cargado\n",
        "display_dataset_distributions(df_blacks)"
      ]
    },
    {
      "cell_type": "code",
      "execution_count": 6,
      "metadata": {},
      "outputs": [
        {
          "name": "stderr",
          "output_type": "stream",
          "text": [
            "c:\\Users\\siles\\anaconda3\\lib\\site-packages\\seaborn\\distributions.py:2619: FutureWarning: `distplot` is a deprecated function and will be removed in a future version. Please adapt your code to use either `displot` (a figure-level function with similar flexibility) or `histplot` (an axes-level function for histograms).\n",
            "  warnings.warn(msg, FutureWarning)\n"
          ]
        },
        {
          "data": {
            "image/png": "[encoded data removed]",
            "text/plain": [
              "<Figure size 640x480 with 1 Axes>"
            ]
          },
          "metadata": {},
          "output_type": "display_data"
        }
      ],
      "source": [
        "sns.distplot(df_blacks[\"Purchase\"], color='g')\n",
        "plt.title(\"Purchase Distribution\")\n",
        "plt.show()"
      ]
    },
    {
      "cell_type": "code",
      "execution_count": 7,
      "metadata": {},
      "outputs": [
        {
          "data": {
            "text/plain": [
              "count    550068.000000\n",
              "mean       9263.968713\n",
              "std        5023.065394\n",
              "min          12.000000\n",
              "25%        5823.000000\n",
              "50%        8047.000000\n",
              "75%       12054.000000\n",
              "max       23961.000000\n",
              "Name: Purchase, dtype: float64"
            ]
          },
          "execution_count": 7,
          "metadata": {},
          "output_type": "execute_result"
        }
      ],
      "source": [
        "df_blacks['Purchase'].describe()"
      ]
    },
    {
      "cell_type": "code",
      "execution_count": 8,
      "metadata": {},
      "outputs": [
        {
          "name": "stdout",
          "output_type": "stream",
          "text": [
            "<class 'pandas.core.frame.DataFrame'>\n",
            "RangeIndex: 550068 entries, 0 to 550067\n",
            "Data columns (total 16 columns):\n",
            " #   Column                         Non-Null Count   Dtype  \n",
            "---  ------                         --------------   -----  \n",
            " 0   User_ID                        550068 non-null  int64  \n",
            " 1   Product_ID                     550068 non-null  object \n",
            " 2   Gender                         550068 non-null  object \n",
            " 3   Age                            550068 non-null  object \n",
            " 4   Occupation                     550068 non-null  int64  \n",
            " 5   City_Category                  550068 non-null  object \n",
            " 6   Marital_Status                 550068 non-null  int64  \n",
            " 7   Product_Category_1             550068 non-null  int64  \n",
            " 8   Product_Category_2             376430 non-null  float64\n",
            " 9   Product_Category_3             166821 non-null  float64\n",
            " 10  Purchase                       550068 non-null  int64  \n",
            " 11  Stay_In_Current_City_Years_0   550068 non-null  uint8  \n",
            " 12  Stay_In_Current_City_Years_1   550068 non-null  uint8  \n",
            " 13  Stay_In_Current_City_Years_2   550068 non-null  uint8  \n",
            " 14  Stay_In_Current_City_Years_3   550068 non-null  uint8  \n",
            " 15  Stay_In_Current_City_Years_4+  550068 non-null  uint8  \n",
            "dtypes: float64(2), int64(5), object(4), uint8(5)\n",
            "memory usage: 48.8+ MB\n"
          ]
        }
      ],
      "source": [
        "#Encoding\n",
        "df_blacks_modified = pd.get_dummies(df_blacks, columns=['Stay_In_Current_City_Years'])\n",
        "df_blacks_modified.info()"
      ]
    },
    {
      "cell_type": "code",
      "execution_count": 9,
      "metadata": {},
      "outputs": [],
      "source": [
        "label_encoder = LabelEncoder()"
      ]
    },
    {
      "cell_type": "code",
      "execution_count": 10,
      "metadata": {},
      "outputs": [],
      "source": [
        "df_blacks_modified['Gender'] = label_encoder.fit_transform(\n",
        "    df_blacks_modified['Gender'])"
      ]
    },
    {
      "cell_type": "code",
      "execution_count": 11,
      "metadata": {},
      "outputs": [],
      "source": [
        "df_blacks_modified['Age'] = label_encoder.fit_transform(\n",
        "    df_blacks_modified['Age'])"
      ]
    },
    {
      "cell_type": "code",
      "execution_count": 12,
      "metadata": {},
      "outputs": [],
      "source": [
        "df_blacks_modified['City_Category'] = label_encoder.fit_transform(\n",
        "    df_blacks_modified['City_Category'])"
      ]
    },
    {
      "cell_type": "code",
      "execution_count": 13,
      "metadata": {},
      "outputs": [
        {
          "name": "stdout",
          "output_type": "stream",
          "text": [
            "<class 'pandas.core.frame.DataFrame'>\n",
            "RangeIndex: 550068 entries, 0 to 550067\n",
            "Data columns (total 16 columns):\n",
            " #   Column                         Non-Null Count   Dtype  \n",
            "---  ------                         --------------   -----  \n",
            " 0   User_ID                        550068 non-null  int64  \n",
            " 1   Product_ID                     550068 non-null  object \n",
            " 2   Gender                         550068 non-null  int32  \n",
            " 3   Age                            550068 non-null  int32  \n",
            " 4   Occupation                     550068 non-null  int64  \n",
            " 5   City_Category                  550068 non-null  int32  \n",
            " 6   Marital_Status                 550068 non-null  int64  \n",
            " 7   Product_Category_1             550068 non-null  int64  \n",
            " 8   Product_Category_2             376430 non-null  float64\n",
            " 9   Product_Category_3             166821 non-null  float64\n",
            " 10  Purchase                       550068 non-null  int64  \n",
            " 11  Stay_In_Current_City_Years_0   550068 non-null  uint8  \n",
            " 12  Stay_In_Current_City_Years_1   550068 non-null  uint8  \n",
            " 13  Stay_In_Current_City_Years_2   550068 non-null  uint8  \n",
            " 14  Stay_In_Current_City_Years_3   550068 non-null  uint8  \n",
            " 15  Stay_In_Current_City_Years_4+  550068 non-null  uint8  \n",
            "dtypes: float64(2), int32(3), int64(5), object(1), uint8(5)\n",
            "memory usage: 42.5+ MB\n"
          ]
        }
      ],
      "source": [
        "df_blacks_modified.info()"
      ]
    },
    {
      "cell_type": "code",
      "execution_count": 14,
      "metadata": {},
      "outputs": [
        {
          "data": {
            "text/plain": [
              "User_ID                           0.000000\n",
              "Product_ID                        0.000000\n",
              "Gender                            0.000000\n",
              "Age                               0.000000\n",
              "Occupation                        0.000000\n",
              "City_Category                     0.000000\n",
              "Marital_Status                    0.000000\n",
              "Product_Category_1                0.000000\n",
              "Product_Category_2               31.566643\n",
              "Product_Category_3               69.672659\n",
              "Purchase                          0.000000\n",
              "Stay_In_Current_City_Years_0      0.000000\n",
              "Stay_In_Current_City_Years_1      0.000000\n",
              "Stay_In_Current_City_Years_2      0.000000\n",
              "Stay_In_Current_City_Years_3      0.000000\n",
              "Stay_In_Current_City_Years_4+     0.000000\n",
              "dtype: float64"
            ]
          },
          "execution_count": 14,
          "metadata": {},
          "output_type": "execute_result"
        }
      ],
      "source": [
        "#missing v.i\n",
        "len(df_blacks_modified[df_blacks_modified['Purchase'].isna()])\n",
        "\n",
        "df_blacks_modified = df_blacks_modified[df_blacks_modified['Purchase'].notna()]\n",
        "(df_blacks_modified.isnull().sum()/len(df_blacks_modified))*100\n"
      ]
    },
    {
      "cell_type": "code",
      "execution_count": 15,
      "metadata": {},
      "outputs": [],
      "source": [
        "user_id = df_blacks_modified['User_ID']\n",
        "product_id = df_blacks_modified['Product_ID']"
      ]
    },
    {
      "cell_type": "code",
      "execution_count": 17,
      "metadata": {},
      "outputs": [],
      "source": [
        "df_blacks_preprocessed = df_blacks_modified.drop(['User_ID', 'Product_ID'], axis=1)"
      ]
    },
    {
      "cell_type": "code",
      "execution_count": 18,
      "metadata": {},
      "outputs": [],
      "source": [
        "# Missing variables imputation with MICE methods\n",
        "mice_kernel = ImputationKernel(\n",
        "    data=df_blacks_preprocessed, save_all_iterations=True,\n",
        "    random_state=42)"
      ]
    },
    {
      "cell_type": "code",
      "execution_count": 19,
      "metadata": {},
      "outputs": [
        {
          "data": {
            "text/html": [
              "<div>\n",
              "<style scoped>\n",
              "    .dataframe tbody tr th:only-of-type {\n",
              "        vertical-align: middle;\n",
              "    }\n",
              "\n",
              "    .dataframe tbody tr th {\n",
              "        vertical-align: top;\n",
              "    }\n",
              "\n",
              "    .dataframe thead th {\n",
              "        text-align: right;\n",
              "    }\n",
              "</style>\n",
              "<table border=\"1\" class=\"dataframe\">\n",
              "  <thead>\n",
              "    <tr style=\"text-align: right;\">\n",
              "      <th></th>\n",
              "      <th>Gender</th>\n",
              "      <th>Age</th>\n",
              "      <th>Occupation</th>\n",
              "      <th>City_Category</th>\n",
              "      <th>Marital_Status</th>\n",
              "      <th>Product_Category_1</th>\n",
              "      <th>Product_Category_2</th>\n",
              "      <th>Product_Category_3</th>\n",
              "      <th>Purchase</th>\n",
              "      <th>Stay_In_Current_City_Years_0</th>\n",
              "      <th>Stay_In_Current_City_Years_1</th>\n",
              "      <th>Stay_In_Current_City_Years_2</th>\n",
              "      <th>Stay_In_Current_City_Years_3</th>\n",
              "      <th>Stay_In_Current_City_Years_4+</th>\n",
              "    </tr>\n",
              "  </thead>\n",
              "  <tbody>\n",
              "    <tr>\n",
              "      <th>0</th>\n",
              "      <td>0</td>\n",
              "      <td>0</td>\n",
              "      <td>10</td>\n",
              "      <td>0</td>\n",
              "      <td>0</td>\n",
              "      <td>3</td>\n",
              "      <td>4.0</td>\n",
              "      <td>5.0</td>\n",
              "      <td>8370</td>\n",
              "      <td>0</td>\n",
              "      <td>0</td>\n",
              "      <td>1</td>\n",
              "      <td>0</td>\n",
              "      <td>0</td>\n",
              "    </tr>\n",
              "    <tr>\n",
              "      <th>1</th>\n",
              "      <td>0</td>\n",
              "      <td>0</td>\n",
              "      <td>10</td>\n",
              "      <td>0</td>\n",
              "      <td>0</td>\n",
              "      <td>1</td>\n",
              "      <td>6.0</td>\n",
              "      <td>14.0</td>\n",
              "      <td>15200</td>\n",
              "      <td>0</td>\n",
              "      <td>0</td>\n",
              "      <td>1</td>\n",
              "      <td>0</td>\n",
              "      <td>0</td>\n",
              "    </tr>\n",
              "    <tr>\n",
              "      <th>2</th>\n",
              "      <td>0</td>\n",
              "      <td>0</td>\n",
              "      <td>10</td>\n",
              "      <td>0</td>\n",
              "      <td>0</td>\n",
              "      <td>12</td>\n",
              "      <td>14.0</td>\n",
              "      <td>17.0</td>\n",
              "      <td>1422</td>\n",
              "      <td>0</td>\n",
              "      <td>0</td>\n",
              "      <td>1</td>\n",
              "      <td>0</td>\n",
              "      <td>0</td>\n",
              "    </tr>\n",
              "    <tr>\n",
              "      <th>3</th>\n",
              "      <td>0</td>\n",
              "      <td>0</td>\n",
              "      <td>10</td>\n",
              "      <td>0</td>\n",
              "      <td>0</td>\n",
              "      <td>12</td>\n",
              "      <td>14.0</td>\n",
              "      <td>17.0</td>\n",
              "      <td>1057</td>\n",
              "      <td>0</td>\n",
              "      <td>0</td>\n",
              "      <td>1</td>\n",
              "      <td>0</td>\n",
              "      <td>0</td>\n",
              "    </tr>\n",
              "    <tr>\n",
              "      <th>4</th>\n",
              "      <td>1</td>\n",
              "      <td>6</td>\n",
              "      <td>16</td>\n",
              "      <td>2</td>\n",
              "      <td>0</td>\n",
              "      <td>8</td>\n",
              "      <td>14.0</td>\n",
              "      <td>17.0</td>\n",
              "      <td>7969</td>\n",
              "      <td>0</td>\n",
              "      <td>0</td>\n",
              "      <td>0</td>\n",
              "      <td>0</td>\n",
              "      <td>1</td>\n",
              "    </tr>\n",
              "  </tbody>\n",
              "</table>\n",
              "</div>"
            ],
            "text/plain": [
              "   Gender  Age  Occupation  City_Category  Marital_Status  Product_Category_1  \\\n",
              "0       0    0          10              0               0                   3   \n",
              "1       0    0          10              0               0                   1   \n",
              "2       0    0          10              0               0                  12   \n",
              "3       0    0          10              0               0                  12   \n",
              "4       1    6          16              2               0                   8   \n",
              "\n",
              "   Product_Category_2  Product_Category_3  Purchase  \\\n",
              "0                 4.0                 5.0      8370   \n",
              "1                 6.0                14.0     15200   \n",
              "2                14.0                17.0      1422   \n",
              "3                14.0                17.0      1057   \n",
              "4                14.0                17.0      7969   \n",
              "\n",
              "   Stay_In_Current_City_Years_0  Stay_In_Current_City_Years_1  \\\n",
              "0                             0                             0   \n",
              "1                             0                             0   \n",
              "2                             0                             0   \n",
              "3                             0                             0   \n",
              "4                             0                             0   \n",
              "\n",
              "   Stay_In_Current_City_Years_2  Stay_In_Current_City_Years_3  \\\n",
              "0                             1                             0   \n",
              "1                             1                             0   \n",
              "2                             1                             0   \n",
              "3                             1                             0   \n",
              "4                             0                             0   \n",
              "\n",
              "   Stay_In_Current_City_Years_4+  \n",
              "0                              0  \n",
              "1                              0  \n",
              "2                              0  \n",
              "3                              0  \n",
              "4                              1  "
            ]
          },
          "execution_count": 19,
          "metadata": {},
          "output_type": "execute_result"
        }
      ],
      "source": [
        "mice_kernel.mice(2)\n",
        "df_blacks_final = mice_kernel.complete_data()\n",
        "df_blacks_final.head()"
      ]
    },
    {
      "cell_type": "code",
      "execution_count": 20,
      "metadata": {},
      "outputs": [
        {
          "data": {
            "text/plain": [
              "Gender                           0\n",
              "Age                              0\n",
              "Occupation                       0\n",
              "City_Category                    0\n",
              "Marital_Status                   0\n",
              "Product_Category_1               0\n",
              "Product_Category_2               0\n",
              "Product_Category_3               0\n",
              "Purchase                         0\n",
              "Stay_In_Current_City_Years_0     0\n",
              "Stay_In_Current_City_Years_1     0\n",
              "Stay_In_Current_City_Years_2     0\n",
              "Stay_In_Current_City_Years_3     0\n",
              "Stay_In_Current_City_Years_4+    0\n",
              "dtype: int64"
            ]
          },
          "execution_count": 20,
          "metadata": {},
          "output_type": "execute_result"
        }
      ],
      "source": [
        "df_blacks_final.isnull().sum()"
      ]
    },
    {
      "cell_type": "code",
      "execution_count": 21,
      "metadata": {},
      "outputs": [
        {
          "name": "stdout",
          "output_type": "stream",
          "text": [
            "<class 'pandas.core.frame.DataFrame'>\n",
            "Int64Index: 550068 entries, 0 to 550067\n",
            "Data columns (total 14 columns):\n",
            " #   Column                         Non-Null Count   Dtype  \n",
            "---  ------                         --------------   -----  \n",
            " 0   Gender                         550068 non-null  int32  \n",
            " 1   Age                            550068 non-null  int32  \n",
            " 2   Occupation                     550068 non-null  int64  \n",
            " 3   City_Category                  550068 non-null  int32  \n",
            " 4   Marital_Status                 550068 non-null  int64  \n",
            " 5   Product_Category_1             550068 non-null  int64  \n",
            " 6   Product_Category_2             550068 non-null  float64\n",
            " 7   Product_Category_3             550068 non-null  float64\n",
            " 8   Purchase                       550068 non-null  int64  \n",
            " 9   Stay_In_Current_City_Years_0   550068 non-null  uint8  \n",
            " 10  Stay_In_Current_City_Years_1   550068 non-null  uint8  \n",
            " 11  Stay_In_Current_City_Years_2   550068 non-null  uint8  \n",
            " 12  Stay_In_Current_City_Years_3   550068 non-null  uint8  \n",
            " 13  Stay_In_Current_City_Years_4+  550068 non-null  uint8  \n",
            "dtypes: float64(2), int32(3), int64(4), uint8(5)\n",
            "memory usage: 38.3 MB\n"
          ]
        }
      ],
      "source": [
        "df_blacks_final.info()"
      ]
    },
    {
      "cell_type": "code",
      "execution_count": 22,
      "metadata": {},
      "outputs": [],
      "source": [
        "df_blacks_final['Purchase_level'] = df_blacks_final['Purchase'].apply(\n",
        "    lambda q: 0 if q <= 9000 else 1)"
      ]
    },
    {
      "cell_type": "code",
      "execution_count": 23,
      "metadata": {},
      "outputs": [
        {
          "name": "stdout",
          "output_type": "stream",
          "text": [
            "<class 'pandas.core.frame.DataFrame'>\n",
            "Int64Index: 550068 entries, 0 to 550067\n",
            "Data columns (total 13 columns):\n",
            " #   Column                         Non-Null Count   Dtype  \n",
            "---  ------                         --------------   -----  \n",
            " 0   Gender                         550068 non-null  int32  \n",
            " 1   Age                            550068 non-null  int32  \n",
            " 2   Occupation                     550068 non-null  int64  \n",
            " 3   City_Category                  550068 non-null  int32  \n",
            " 4   Marital_Status                 550068 non-null  int64  \n",
            " 5   Product_Category_1             550068 non-null  int64  \n",
            " 6   Product_Category_2             550068 non-null  float64\n",
            " 7   Product_Category_3             550068 non-null  float64\n",
            " 8   Stay_In_Current_City_Years_0   550068 non-null  uint8  \n",
            " 9   Stay_In_Current_City_Years_1   550068 non-null  uint8  \n",
            " 10  Stay_In_Current_City_Years_2   550068 non-null  uint8  \n",
            " 11  Stay_In_Current_City_Years_3   550068 non-null  uint8  \n",
            " 12  Stay_In_Current_City_Years_4+  550068 non-null  uint8  \n",
            "dtypes: float64(2), int32(3), int64(3), uint8(5)\n",
            "memory usage: 34.1 MB\n"
          ]
        }
      ],
      "source": [
        "# Drop the target \n",
        "x = df_blacks_final.drop(['Purchase', 'Purchase_level'], axis=1)\n",
        "y = df_blacks_final['Purchase_level']\n",
        "\n",
        "x.info()"
      ]
    },
    {
      "cell_type": "code",
      "execution_count": 24,
      "metadata": {},
      "outputs": [],
      "source": [
        "#dataset division\n",
        "# Normalization\n",
        "x = x.to_numpy()\n",
        "y = y.to_numpy()\n",
        "x_normalized = (x - np.min(x, axis=0))/(np.max(x, axis=0) - np.min(x, axis=0))"
      ]
    },
    {
      "cell_type": "code",
      "execution_count": 25,
      "metadata": {},
      "outputs": [],
      "source": [
        "idx = np.random.permutation(x_normalized.shape[0])\n",
        "train_idx = idx[0:int(0.80*len(idx))]\n",
        "valid_idx = idx[int(0.80*len(idx)):int(0.90*len(idx)):]\n",
        "test_idx = idx[int(0.90*len(idx)):]"
      ]
    },
    {
      "cell_type": "code",
      "execution_count": 26,
      "metadata": {},
      "outputs": [],
      "source": [
        "# Seleccionar los datos para entrenamiento, validación y prueba basados en los índices\n",
        "train_x = x_normalized[train_idx]  # Datos normalizados para entrenamiento\n",
        "train_y = y[train_idx]              # Objetivos correspondientes para entrenamiento\n",
        "valid_x = x_normalized[valid_idx]  # Datos normalizados para validación\n",
        "valid_y = y[valid_idx]              # Objetivos correspondientes para validación\n",
        "test_x = x_normalized[test_idx]    # Datos normalizados para prueba\n",
        "test_y = y[test_idx]                # Objetivos correspondientes para prueba\n",
        "\n",
        "# Calcular la cantidad de muestras en cada conjunto\n",
        "n_train = train_x.shape[0]  # Número de muestras en el conjunto de entrenamiento\n",
        "n_valid = valid_x.shape[0]  # Número de muestras en el conjunto de validación\n",
        "n_test = test_x.shape[0]    # Número de muestras en el conjunto de prueba\n"
      ]
    },
    {
      "cell_type": "markdown",
      "metadata": {},
      "source": [
        "Training neuronal network"
      ]
    },
    {
      "cell_type": "code",
      "execution_count": null,
      "metadata": {},
      "outputs": [],
      "source": [
        "# Definición de la clase MyDataset que hereda de Dataset\n",
        "class MyDataset(Dataset):\n",
        "\n",
        "    def __init__(self, x, y) -> None:\n",
        "        self.x = x  # Almacenar los datos de entrada\n",
        "        self.y = y  # Almacenar los objetivos\n",
        "\n",
        "    def __len__(self):\n",
        "        return self.x.shape[0]  # Devolver la longitud del conjunto de datos\n",
        "\n",
        "    def __getitem__(self, index: Any) -> Any:\n",
        "        # Devolver el par de datos y objetivo correspondiente al índice dado\n",
        "        return self.x[index], self.y[index]"
      ]
    },
    {
      "cell_type": "code",
      "execution_count": 30,
      "metadata": {},
      "outputs": [],
      "source": [
        "# Creando el conjunto de datos para entrenamiento\n",
        "train_df = MyDataset(train_x, train_y)\n",
        "\n",
        "# Creando el conjunto de datos para prueba\n",
        "test_df = MyDataset(test_x, test_y)\n",
        "\n",
        "# Creando el conjunto de datos para validación\n",
        "validation_df = MyDataset(valid_x, valid_y)\n"
      ]
    },
    {
      "cell_type": "code",
      "execution_count": 31,
      "metadata": {},
      "outputs": [],
      "source": [
        "# Train and valid dataloader\n",
        "train_dataloader = DataLoader(train_df, batch_size=64, shuffle=True)\n",
        "test_dataloader = DataLoader(train_df, batch_size=64, shuffle=True)\n",
        "validation_dataloader = DataLoader(validation_df, batch_size=64)"
      ]
    },
    {
      "cell_type": "code",
      "execution_count": 32,
      "metadata": {},
      "outputs": [],
      "source": [
        "\n",
        "# Definición de la arquitectura de la red neuronal\n",
        "class NNet(torch.nn.Module):\n",
        "    # Inicialización de la arquitectura\n",
        "    def __init__(self):\n",
        "        super().__init__()  # Llamada al constructor de la clase base\n",
        "        # Definición de la primera capa lineal\n",
        "        self.linear_1 = torch.nn.Linear(in_features=13, out_features=200, bias=True)\n",
        "        self.relu_1 =  torch.nn.ReLU()  # Función de activación ReLU\n",
        "        # Definición de la segunda capa lineal\n",
        "        self.linear_2 = torch.nn.Linear(in_features=200, out_features=100, bias=True)\n",
        "        self.relu_2 =  torch.nn.ReLU()  # Función de activación ReLU\n",
        "        # Definición de la capa de salida\n",
        "        self.output = torch.nn.Linear(in_features=100, out_features=1, bias=True)\n",
        "\n",
        "    # Función de propagación hacia adelante (Forward)\n",
        "    def forward(self, x):\n",
        "        x = self.linear_1(x)  # Paso a través de la primera capa lineal\n",
        "        x = self.relu_1(x)     # Aplicación de la función de activación ReLU\n",
        "        x = self.linear_2(x)   # Paso a través de la segunda capa lineal\n",
        "        x = self.relu_2(x)     # Aplicación de la función de activación ReLU\n",
        "        x = self.output(x)     # Paso a través de la capa de salida\n",
        "\n",
        "        return x  # Retornar el resultado de la propagación hacia adelante\n"
      ]
    },
    {
      "cell_type": "code",
      "execution_count": 33,
      "metadata": {},
      "outputs": [],
      "source": [
        "#Instance the net object\n",
        "nnetwork = NNet()"
      ]
    },
    {
      "cell_type": "code",
      "execution_count": 34,
      "metadata": {},
      "outputs": [],
      "source": [
        "#Loss function and optimizer\n",
        "loss_function = torch.nn.BCEWithLogitsLoss(reduction='sum')\n",
        "optimizer = torch.optim.Adam(nnetwork.parameters(), lr=0.005)"
      ]
    },
    {
      "cell_type": "code",
      "execution_count": 35,
      "metadata": {},
      "outputs": [
        {
          "data": {
            "text/plain": [
              "device(type='cpu')"
            ]
          },
          "execution_count": 35,
          "metadata": {},
          "output_type": "execute_result"
        }
      ],
      "source": [
        "#Choosing the device where the script will be executed.\n",
        "device = torch.device('cuda' if torch.cuda.is_available() else 'cpu')\n",
        "device"
      ]
    },
    {
      "cell_type": "code",
      "execution_count": 36,
      "metadata": {},
      "outputs": [],
      "source": [
        "nnetwork = nnetwork.to(device)"
      ]
    },
    {
      "cell_type": "code",
      "execution_count": 37,
      "metadata": {},
      "outputs": [
        {
          "name": "stdout",
          "output_type": "stream",
          "text": [
            " Época 0 | Pérdida Entrenamiento/Validación: 0.392 / 0.348 | Precisión Entrenamiento/Validación: 0.852 / 0.849\n",
            " Época 1 | Pérdida Entrenamiento/Validación: 0.347 / 0.344 | Precisión Entrenamiento/Validación: 0.854 / 0.850\n",
            " Época 2 | Pérdida Entrenamiento/Validación: 0.327 / 0.324 | Precisión Entrenamiento/Validación: 0.863 / 0.864\n",
            " Época 3 | Pérdida Entrenamiento/Validación: 0.322 / 0.321 | Precisión Entrenamiento/Validación: 0.864 / 0.864\n",
            " Época 4 | Pérdida Entrenamiento/Validación: 0.319 / 0.318 | Precisión Entrenamiento/Validación: 0.864 / 0.864\n",
            " Época 5 | Pérdida Entrenamiento/Validación: 0.319 / 0.318 | Precisión Entrenamiento/Validación: 0.864 / 0.863\n",
            " Época 6 | Pérdida Entrenamiento/Validación: 0.319 / 0.331 | Precisión Entrenamiento/Validación: 0.864 / 0.858\n",
            " Época 7 | Pérdida Entrenamiento/Validación: 0.317 / 0.315 | Precisión Entrenamiento/Validación: 0.864 / 0.865\n",
            " Época 8 | Pérdida Entrenamiento/Validación: 0.317 / 0.316 | Precisión Entrenamiento/Validación: 0.864 / 0.864\n",
            " Época 9 | Pérdida Entrenamiento/Validación: 0.316 / 0.315 | Precisión Entrenamiento/Validación: 0.864 / 0.864\n",
            " Época 10 | Pérdida Entrenamiento/Validación: 0.315 / 0.314 | Precisión Entrenamiento/Validación: 0.864 / 0.864\n",
            " Época 11 | Pérdida Entrenamiento/Validación: 0.317 / 0.314 | Precisión Entrenamiento/Validación: 0.864 / 0.865\n",
            " Época 12 | Pérdida Entrenamiento/Validación: 0.315 / 0.317 | Precisión Entrenamiento/Validación: 0.865 / 0.864\n",
            " Época 13 | Pérdida Entrenamiento/Validación: 0.316 / 0.314 | Precisión Entrenamiento/Validación: 0.865 / 0.865\n",
            " Época 14 | Pérdida Entrenamiento/Validación: 0.315 / 0.315 | Precisión Entrenamiento/Validación: 0.865 / 0.865\n",
            " Época 15 | Pérdida Entrenamiento/Validación: 0.314 / 0.315 | Precisión Entrenamiento/Validación: 0.865 / 0.865\n",
            " Época 16 | Pérdida Entrenamiento/Validación: 0.314 / 0.313 | Precisión Entrenamiento/Validación: 0.865 / 0.865\n",
            " Época 17 | Pérdida Entrenamiento/Validación: 0.314 / 0.313 | Precisión Entrenamiento/Validación: 0.865 / 0.865\n",
            " Época 18 | Pérdida Entrenamiento/Validación: 0.313 / 0.316 | Precisión Entrenamiento/Validación: 0.865 / 0.865\n",
            " Época 19 | Pérdida Entrenamiento/Validación: 0.313 / 0.313 | Precisión Entrenamiento/Validación: 0.865 / 0.865\n",
            " Época 20 | Pérdida Entrenamiento/Validación: 0.313 / 0.314 | Precisión Entrenamiento/Validación: 0.865 / 0.865\n",
            " Época 21 | Pérdida Entrenamiento/Validación: 0.314 / 0.325 | Precisión Entrenamiento/Validación: 0.865 / 0.859\n",
            " Época 22 | Pérdida Entrenamiento/Validación: 0.313 / 0.314 | Precisión Entrenamiento/Validación: 0.865 / 0.864\n",
            " Época 23 | Pérdida Entrenamiento/Validación: 0.313 / 0.318 | Precisión Entrenamiento/Validación: 0.865 / 0.864\n",
            " Época 24 | Pérdida Entrenamiento/Validación: 0.313 / 0.313 | Precisión Entrenamiento/Validación: 0.865 / 0.864\n",
            " Época 25 | Pérdida Entrenamiento/Validación: 0.313 / 0.313 | Precisión Entrenamiento/Validación: 0.865 / 0.865\n",
            " Época 26 | Pérdida Entrenamiento/Validación: 0.313 / 0.313 | Precisión Entrenamiento/Validación: 0.865 / 0.865\n",
            " Época 27 | Pérdida Entrenamiento/Validación: 0.313 / 0.319 | Precisión Entrenamiento/Validación: 0.865 / 0.861\n",
            " Época 28 | Pérdida Entrenamiento/Validación: 0.313 / 0.313 | Precisión Entrenamiento/Validación: 0.865 / 0.865\n",
            " Época 29 | Pérdida Entrenamiento/Validación: 0.312 / 0.314 | Precisión Entrenamiento/Validación: 0.865 / 0.864\n",
            " Época 30 | Pérdida Entrenamiento/Validación: 0.313 / 0.313 | Precisión Entrenamiento/Validación: 0.865 / 0.865\n",
            " Época 31 | Pérdida Entrenamiento/Validación: 0.312 / 0.313 | Precisión Entrenamiento/Validación: 0.865 / 0.865\n",
            " Época 32 | Pérdida Entrenamiento/Validación: 0.313 / 0.312 | Precisión Entrenamiento/Validación: 0.865 / 0.865\n",
            " Época 33 | Pérdida Entrenamiento/Validación: 0.312 / 0.312 | Precisión Entrenamiento/Validación: 0.865 / 0.865\n",
            " Época 34 | Pérdida Entrenamiento/Validación: 0.312 / 0.314 | Precisión Entrenamiento/Validación: 0.865 / 0.865\n",
            " Época 35 | Pérdida Entrenamiento/Validación: 0.312 / 0.314 | Precisión Entrenamiento/Validación: 0.865 / 0.865\n",
            " Época 36 | Pérdida Entrenamiento/Validación: 0.312 / 0.313 | Precisión Entrenamiento/Validación: 0.865 / 0.865\n",
            " Época 37 | Pérdida Entrenamiento/Validación: 0.312 / 0.314 | Precisión Entrenamiento/Validación: 0.866 / 0.864\n",
            " Época 38 | Pérdida Entrenamiento/Validación: 0.312 / 0.313 | Precisión Entrenamiento/Validación: 0.865 / 0.865\n",
            " Época 39 | Pérdida Entrenamiento/Validación: 0.313 / 0.312 | Precisión Entrenamiento/Validación: 0.865 / 0.865\n",
            " Época 40 | Pérdida Entrenamiento/Validación: 0.312 / 0.313 | Precisión Entrenamiento/Validación: 0.865 / 0.865\n",
            " Época 41 | Pérdida Entrenamiento/Validación: 0.312 / 0.313 | Precisión Entrenamiento/Validación: 0.865 / 0.865\n",
            " Época 42 | Pérdida Entrenamiento/Validación: 0.312 / 0.313 | Precisión Entrenamiento/Validación: 0.865 / 0.865\n",
            " Época 43 | Pérdida Entrenamiento/Validación: 0.312 / 0.313 | Precisión Entrenamiento/Validación: 0.865 / 0.865\n",
            " Época 44 | Pérdida Entrenamiento/Validación: 0.312 / 0.313 | Precisión Entrenamiento/Validación: 0.865 / 0.865\n",
            " Época 45 | Pérdida Entrenamiento/Validación: 0.312 / 0.315 | Precisión Entrenamiento/Validación: 0.865 / 0.864\n",
            " Época 46 | Pérdida Entrenamiento/Validación: 0.312 / 0.312 | Precisión Entrenamiento/Validación: 0.865 / 0.865\n",
            " Época 47 | Pérdida Entrenamiento/Validación: 0.312 / 0.315 | Precisión Entrenamiento/Validación: 0.865 / 0.865\n",
            " Época 48 | Pérdida Entrenamiento/Validación: 0.312 / 0.314 | Precisión Entrenamiento/Validación: 0.866 / 0.864\n",
            " Época 49 | Pérdida Entrenamiento/Validación: 0.312 / 0.313 | Precisión Entrenamiento/Validación: 0.865 / 0.865\n",
            " Época 50 | Pérdida Entrenamiento/Validación: 0.312 / 0.313 | Precisión Entrenamiento/Validación: 0.865 / 0.864\n",
            " Época 51 | Pérdida Entrenamiento/Validación: 0.312 / 0.313 | Precisión Entrenamiento/Validación: 0.866 / 0.865\n",
            " Época 52 | Pérdida Entrenamiento/Validación: 0.312 / 0.314 | Precisión Entrenamiento/Validación: 0.865 / 0.863\n",
            " Época 53 | Pérdida Entrenamiento/Validación: 0.312 / 0.313 | Precisión Entrenamiento/Validación: 0.866 / 0.864\n",
            " Época 54 | Pérdida Entrenamiento/Validación: 0.312 / 0.312 | Precisión Entrenamiento/Validación: 0.864 / 0.865\n",
            " Época 55 | Pérdida Entrenamiento/Validación: 0.315 / 0.313 | Precisión Entrenamiento/Validación: 0.865 / 0.864\n",
            " Época 56 | Pérdida Entrenamiento/Validación: 0.313 / 0.313 | Precisión Entrenamiento/Validación: 0.865 / 0.865\n",
            " Época 57 | Pérdida Entrenamiento/Validación: 0.313 / 0.313 | Precisión Entrenamiento/Validación: 0.865 / 0.865\n",
            " Época 58 | Pérdida Entrenamiento/Validación: 0.313 / 0.314 | Precisión Entrenamiento/Validación: 0.865 / 0.865\n",
            " Época 59 | Pérdida Entrenamiento/Validación: 0.312 / 0.319 | Precisión Entrenamiento/Validación: 0.865 / 0.863\n",
            " Época 60 | Pérdida Entrenamiento/Validación: 0.312 / 0.314 | Precisión Entrenamiento/Validación: 0.865 / 0.865\n",
            " Época 61 | Pérdida Entrenamiento/Validación: 0.312 / 0.312 | Precisión Entrenamiento/Validación: 0.865 / 0.865\n",
            " Época 62 | Pérdida Entrenamiento/Validación: 0.312 / 0.312 | Precisión Entrenamiento/Validación: 0.865 / 0.865\n",
            " Época 63 | Pérdida Entrenamiento/Validación: 0.311 / 0.313 | Precisión Entrenamiento/Validación: 0.866 / 0.864\n",
            " Época 64 | Pérdida Entrenamiento/Validación: 0.312 / 0.313 | Precisión Entrenamiento/Validación: 0.866 / 0.864\n",
            " Época 65 | Pérdida Entrenamiento/Validación: 0.311 / 0.315 | Precisión Entrenamiento/Validación: 0.865 / 0.865\n",
            " Época 66 | Pérdida Entrenamiento/Validación: 0.311 / 0.312 | Precisión Entrenamiento/Validación: 0.866 / 0.865\n",
            " Época 67 | Pérdida Entrenamiento/Validación: 0.311 / 0.311 | Precisión Entrenamiento/Validación: 0.865 / 0.865\n",
            " Época 68 | Pérdida Entrenamiento/Validación: 0.311 / 0.314 | Precisión Entrenamiento/Validación: 0.865 / 0.865\n",
            " Época 69 | Pérdida Entrenamiento/Validación: 0.311 / 0.312 | Precisión Entrenamiento/Validación: 0.866 / 0.864\n",
            " Época 70 | Pérdida Entrenamiento/Validación: 0.311 / 0.312 | Precisión Entrenamiento/Validación: 0.865 / 0.865\n",
            " Época 71 | Pérdida Entrenamiento/Validación: 0.311 / 0.312 | Precisión Entrenamiento/Validación: 0.866 / 0.865\n",
            " Época 72 | Pérdida Entrenamiento/Validación: 0.311 / 0.312 | Precisión Entrenamiento/Validación: 0.864 / 0.865\n",
            " Época 73 | Pérdida Entrenamiento/Validación: 0.311 / 0.314 | Precisión Entrenamiento/Validación: 0.865 / 0.865\n",
            " Época 74 | Pérdida Entrenamiento/Validación: 0.311 / 0.313 | Precisión Entrenamiento/Validación: 0.866 / 0.864\n",
            " Época 75 | Pérdida Entrenamiento/Validación: 0.311 / 0.312 | Precisión Entrenamiento/Validación: 0.866 / 0.865\n",
            " Época 76 | Pérdida Entrenamiento/Validación: 0.311 / 0.311 | Precisión Entrenamiento/Validación: 0.866 / 0.866\n",
            " Época 77 | Pérdida Entrenamiento/Validación: 0.311 / 0.313 | Precisión Entrenamiento/Validación: 0.866 / 0.865\n",
            " Época 78 | Pérdida Entrenamiento/Validación: 0.311 / 0.312 | Precisión Entrenamiento/Validación: 0.866 / 0.865\n",
            " Época 79 | Pérdida Entrenamiento/Validación: 0.311 / 0.313 | Precisión Entrenamiento/Validación: 0.865 / 0.865\n",
            " Época 80 | Pérdida Entrenamiento/Validación: 0.311 / 0.311 | Precisión Entrenamiento/Validación: 0.866 / 0.865\n",
            " Época 81 | Pérdida Entrenamiento/Validación: 0.311 / 0.312 | Precisión Entrenamiento/Validación: 0.865 / 0.865\n",
            " Época 82 | Pérdida Entrenamiento/Validación: 0.311 / 0.313 | Precisión Entrenamiento/Validación: 0.866 / 0.865\n",
            " Época 83 | Pérdida Entrenamiento/Validación: 0.311 / 0.313 | Precisión Entrenamiento/Validación: 0.866 / 0.865\n",
            " Época 84 | Pérdida Entrenamiento/Validación: 0.311 / 0.313 | Precisión Entrenamiento/Validación: 0.866 / 0.865\n",
            " Época 85 | Pérdida Entrenamiento/Validación: 0.311 / 0.313 | Precisión Entrenamiento/Validación: 0.866 / 0.865\n",
            " Época 86 | Pérdida Entrenamiento/Validación: 0.311 / 0.316 | Precisión Entrenamiento/Validación: 0.865 / 0.864\n",
            " Época 87 | Pérdida Entrenamiento/Validación: 0.311 / 0.313 | Precisión Entrenamiento/Validación: 0.866 / 0.865\n",
            " Época 88 | Pérdida Entrenamiento/Validación: 0.311 / 0.312 | Precisión Entrenamiento/Validación: 0.866 / 0.865\n",
            " Época 89 | Pérdida Entrenamiento/Validación: 0.311 / 0.313 | Precisión Entrenamiento/Validación: 0.866 / 0.864\n",
            " Época 90 | Pérdida Entrenamiento/Validación: 0.311 / 0.312 | Precisión Entrenamiento/Validación: 0.865 / 0.865\n",
            " Época 91 | Pérdida Entrenamiento/Validación: 0.311 / 0.312 | Precisión Entrenamiento/Validación: 0.866 / 0.865\n",
            " Época 92 | Pérdida Entrenamiento/Validación: 0.311 / 0.312 | Precisión Entrenamiento/Validación: 0.866 / 0.865\n",
            " Época 93 | Pérdida Entrenamiento/Validación: 0.311 / 0.312 | Precisión Entrenamiento/Validación: 0.865 / 0.865\n",
            " Época 94 | Pérdida Entrenamiento/Validación: 0.311 / 0.312 | Precisión Entrenamiento/Validación: 0.866 / 0.865\n",
            " Época 95 | Pérdida Entrenamiento/Validación: 0.311 / 0.313 | Precisión Entrenamiento/Validación: 0.866 / 0.864\n",
            " Época 96 | Pérdida Entrenamiento/Validación: 0.311 / 0.312 | Precisión Entrenamiento/Validación: 0.866 / 0.864\n",
            " Época 97 | Pérdida Entrenamiento/Validación: 0.311 / 0.311 | Precisión Entrenamiento/Validación: 0.865 / 0.865\n",
            " Época 98 | Pérdida Entrenamiento/Validación: 0.311 / 0.313 | Precisión Entrenamiento/Validación: 0.865 / 0.865\n",
            " Época 99 | Pérdida Entrenamiento/Validación: 0.311 / 0.312 | Precisión Entrenamiento/Validación: 0.866 / 0.865\n"
          ]
        }
      ],
      "source": [
        "# Mini-batch algorithm\n",
        "# Algoritmo de mini lotes\n",
        "# Número de épocas\n",
        "epochs = 100\n",
        "\n",
        "# Listas para almacenar las pérdidas por época\n",
        "train_loss_by_epoch = []\n",
        "valid_loss_by_epoch = []\n",
        "test_loss_by_epoch = []\n",
        "\n",
        "# Bucle principal para el algoritmo de mini lotes a lo largo de las épocas\n",
        "for epoch in range(epochs):\n",
        "  \n",
        "  # Establecer la red neuronal en modo de entrenamiento\n",
        "  nnetwork.train(True)\n",
        "\n",
        "  epoch_loss = 0\n",
        "  epoch_y_hat = []\n",
        "  epoch_y = []\n",
        "  \n",
        "  for i, data in enumerate(train_dataloader):\n",
        "    # Obtener los datos del lote de entrenamiento\n",
        "    x_batch, y_batch = data\n",
        "    # Colocar el lote en el dispositivo donde se entrenará la red neuronal\n",
        "    x_batch = x_batch.to(device).float()\n",
        "    y_batch = y_batch.to(device).float().reshape(-1, 1)\n",
        "\n",
        "\n",
        "    ##Propagación hacia adelante             \n",
        "\n",
        "    \n",
        "    # Limpiar el optimizador para comenzar un nuevo cálculo de gradientes\n",
        "    optimizer.zero_grad()\n",
        "    nnet_output = nnetwork(x_batch)\n",
        "    y_batch_hat = torch.sigmoid(nnet_output)\n",
        "    \n",
        "    # Calcular la pérdida\n",
        "    loss = loss_function(nnet_output, y_batch)\n",
        "\n",
        "    ##Retropropagación#\n",
        "\n",
        "    loss.backward()\n",
        "\n",
        "    # Actualizar los parámetros\n",
        "    optimizer.step()\n",
        "\n",
        "    # Almacenar los valores reales y las predicciones para calcular las métricas\n",
        "    epoch_y += list(y_batch.detach().cpu().numpy())\n",
        "    epoch_y_hat += list(y_batch_hat.detach().cpu().numpy())\n",
        "    \n",
        "    epoch_loss = epoch_loss + loss.item()\n",
        "\n",
        "  # Calcular el promedio de la pérdida\n",
        "  epoch_loss = epoch_loss / n_train\n",
        "  # Almacenar los valores de pérdida para graficar\n",
        "  train_loss_by_epoch.append(epoch_loss)\n",
        "  # Calcular la precisión por época \n",
        "  accuracy = metrics.accuracy_score(epoch_y, [j>=0.5 for j in epoch_y_hat])\n",
        "\n",
        "\n",
        "  # #Validación               ##\n",
        "\n",
        "  \n",
        "  # Desactivar el cálculo de gradientes en el proceso de validación\n",
        "  nnetwork.train(False)\n",
        "\n",
        "  valid_epoch_loss = 0\n",
        "  valid_epoch_y_hat = []\n",
        "  valid_epoch_y = []\n",
        "\n",
        "  for i, data in enumerate(validation_dataloader):\n",
        "    # Obtener los datos del lote de validación\n",
        "    x_batch, y_batch = data\n",
        "    # Colocar el lote en el dispositivo donde se entrenará la red neuronal\n",
        "    x_batch = x_batch.to(device).float()\n",
        "    y_batch = y_batch.to(device).float().reshape(-1, 1)\n",
        "\n",
        "    ## Propagación hacia adelante##\n",
        "    \n",
        "    nnet_output = nnetwork(x_batch)\n",
        "    y_batch_hat = torch.sigmoid(nnet_output)\n",
        "    \n",
        "    # Calcular los valores de pérdida\n",
        "    loss = loss_function(nnet_output, y_batch)\n",
        "\n",
        "    # No propagar en la validación\n",
        "\n",
        "    # Almacenar los valores reales y las predicciones para calcular las métricas\n",
        "    valid_epoch_y += list(y_batch.detach().cpu().numpy())\n",
        "    valid_epoch_y_hat += list(y_batch_hat.detach().cpu().numpy())\n",
        "    # Almacenar la pérdida del lote\n",
        "    valid_epoch_loss = valid_epoch_loss + loss.item()\n",
        "\n",
        "  # Calcular el promedio de la pérdida\n",
        "  valid_epoch_loss = valid_epoch_loss / n_valid\n",
        "  # Almacenar la pérdida para graficar\n",
        "  valid_loss_by_epoch.append(valid_epoch_loss)\n",
        "  # Calcular la precisión por época \n",
        "  valid_accuracy = metrics.accuracy_score(valid_epoch_y, [j>=0.5 for j in valid_epoch_y_hat])\n",
        "\n",
        "\n",
        "  ##Pruebas ##\n",
        "\n",
        "  \n",
        "  # Establecer la red neuronal en modo de entrenamiento\n",
        "  nnetwork.train(True)\n",
        "\n",
        "  test_epoch_loss = 0\n",
        "  test_epoch_y_hat = []\n",
        "  test_epoch_y = []\n",
        "  \n",
        "  for i, data in enumerate(test_dataloader):\n",
        "    # Obtener los datos del lote de pruebas\n",
        "    x_batch, y_batch = data\n",
        "    # Colocar el lote en el dispositivo donde se entrenará la red neuronal\n",
        "    x_batch = x_batch.to(device).float()\n",
        "    y_batch = y_batch.to(device).float().reshape(-1, 1)\n",
        "\n",
        "    ##Propagación hacia adelante##\n",
        "\n",
        "    \n",
        "    # Limpiar el optimizador para comenzar un nuevo cálculo de gradientes\n",
        "    optimizer.zero_grad()\n",
        "    nnet_output = nnetwork(x_batch)\n",
        "    y_batch_hat = torch.sigmoid(nnet_output)\n",
        "    \n",
        "    # Calcular la pérdida\n",
        "    loss = loss_function(nnet_output, y_batch)\n",
        "\n",
        "    ##Retropropagación##\n",
        "    loss.backward()\n",
        "\n",
        "    # Actualizar los parámetros\n",
        "    optimizer.step()\n",
        "\n",
        "    # Almacenar los valores reales y las predicciones para calcular las métricas\n",
        "    test_epoch_y += list(y_batch.detach().cpu().numpy())\n",
        "    test_epoch_y_hat += list(y_batch_hat.detach().cpu().numpy())\n",
        "    \n",
        "    test_epoch_loss = test_epoch_loss + loss.item()\n",
        "\n",
        "  # Calcular el promedio de la pérdida\n",
        "  test_epoch_loss = test_epoch_loss / n_test\n",
        "  # Almacenar los valores de pérdida para graficar\n",
        "  test_loss_by_epoch.append(test_epoch_loss)\n",
        "  # Calcular la precisión por época \n",
        "  accuracy = metrics.accuracy_score(test_epoch_y, [j>=0.5 for j in test_epoch_y_hat])\n",
        "\n",
        "  \n",
        "  print(f\" Época {epoch} | \" \\\n",
        "        f\"Pérdida Entrenamiento/Validación: {epoch_loss:.3f} / {valid_epoch_loss:.3f} | \" \\\n",
        "        f\"Precisión Entrenamiento/Validación: {accuracy:.3f} / {valid_accuracy:.3f}\")\n"
      ]
    },
    {
      "cell_type": "code",
      "execution_count": 38,
      "metadata": {},
      "outputs": [
        {
          "data": {
            "text/plain": [
              "Text(0, 0.5, 'BCE')"
            ]
          },
          "execution_count": 38,
          "metadata": {},
          "output_type": "execute_result"
        },
        {
          "data": {
            "image/png": "[encoded data removed]",
            "text/plain": [
              "<Figure size 640x480 with 1 Axes>"
            ]
          },
          "metadata": {},
          "output_type": "display_data"
        }
      ],
      "source": [
        "# Creación del gráfico para la pérdida por época\n",
        "fig, ax1 = plt.subplots(1, 1)\n",
        "\n",
        "# Graficar la pérdida de entrenamiento y validación\n",
        "ax1.plot(train_loss_by_epoch, label=\"Pérdida de entrenamiento\")\n",
        "ax1.plot(valid_loss_by_epoch, label=\"Pérdida de validación\")\n",
        "\n",
        "# Agregar una leyenda al gráfico\n",
        "ax1.legend()\n",
        "\n",
        "# Configurar el título del gráfico\n",
        "ax1.set_title(\"Pérdida por época\")\n",
        "\n",
        "# Configurar etiquetas en el eje x y el eje y\n",
        "ax1.set_xlabel(\"Época\")\n",
        "ax1.set_ylabel(\"BCE\")\n"
      ]
    },
    {
      "cell_type": "code",
      "execution_count": 39,
      "metadata": {},
      "outputs": [
        {
          "data": {
            "text/plain": [
              "5891"
            ]
          },
          "execution_count": 39,
          "metadata": {},
          "output_type": "execute_result"
        }
      ],
      "source": [
        "#training model with embedding\n",
        "len(user_id.unique())\n"
      ]
    },
    {
      "cell_type": "code",
      "execution_count": 40,
      "metadata": {},
      "outputs": [
        {
          "data": {
            "text/plain": [
              "array([1000001, 1000002, 1000003, ..., 1004113, 1005391, 1001529],\n",
              "      dtype=int64)"
            ]
          },
          "execution_count": 40,
          "metadata": {},
          "output_type": "execute_result"
        }
      ],
      "source": [
        "user_id.unique()"
      ]
    },
    {
      "cell_type": "code",
      "execution_count": 41,
      "metadata": {},
      "outputs": [
        {
          "data": {
            "text/plain": [
              "3631"
            ]
          },
          "execution_count": 41,
          "metadata": {},
          "output_type": "execute_result"
        }
      ],
      "source": [
        "len(product_id.unique())"
      ]
    },
    {
      "cell_type": "code",
      "execution_count": 42,
      "metadata": {},
      "outputs": [
        {
          "data": {
            "text/plain": [
              "array(['P00069042', 'P00248942', 'P00087842', ..., 'P00370293',\n",
              "       'P00371644', 'P00370853'], dtype=object)"
            ]
          },
          "execution_count": 42,
          "metadata": {},
          "output_type": "execute_result"
        }
      ],
      "source": [
        "# Characteristics of the product_id feature\n",
        "product_id.unique()"
      ]
    },
    {
      "cell_type": "code",
      "execution_count": 43,
      "metadata": {},
      "outputs": [],
      "source": [
        "#Transform the user_id variable to use like embedding\n",
        "user_id_to_idx = {value:i for i, value in enumerate(user_id.unique())}"
      ]
    },
    {
      "cell_type": "code",
      "execution_count": 44,
      "metadata": {},
      "outputs": [],
      "source": [
        "#Transforming the product_id variable to use like embedding\n",
        "product_id_to_idx = {value:j for j, value in enumerate(product_id.unique())}"
      ]
    },
    {
      "cell_type": "code",
      "execution_count": 45,
      "metadata": {},
      "outputs": [],
      "source": [
        "# Vectors of user_id and product_id on the dataset\n",
        "user_idx = np.array([user_id_to_idx[value] for value in user_id])\n",
        "product_idx = np.array([product_id_to_idx[value] for value in product_id])\n"
      ]
    },
    {
      "cell_type": "code",
      "execution_count": 46,
      "metadata": {},
      "outputs": [],
      "source": [
        "# Splitting up the vector user_idx in training, testing and validation\n",
        "user_idx_train = user_idx[train_idx]\n",
        "user_idx_validation = user_idx[valid_idx]\n",
        "user_idx_test = user_idx[test_idx]"
      ]
    },
    {
      "cell_type": "code",
      "execution_count": 47,
      "metadata": {},
      "outputs": [],
      "source": [
        "# Splitting up the vector product_idx in training, testing and validation\n",
        "product_idx_train = product_idx[train_idx]\n",
        "product_idx_validation = product_idx[valid_idx]\n",
        "product_idx_test = product_idx[test_idx]"
      ]
    },
    {
      "cell_type": "code",
      "execution_count": 48,
      "metadata": {},
      "outputs": [],
      "source": [
        "class DatasetWithEmbeddings(Dataset):\n",
        "\n",
        "    def __init__(self, x, user_idx, product_idx, y) -> None:\n",
        "        self.x = x                  # Datos generales\n",
        "        self.user_idx = user_idx    # Índices de usuarios\n",
        "        self.product_idx = product_idx  # Índices de productos\n",
        "        self.y = y                  # Objetivos\n",
        "\n",
        "    def __len__(self):\n",
        "        return self.x.shape[0]  # Devolver la longitud del conjunto de datos\n",
        "\n",
        "    def __getitem__(self, index) -> Any:\n",
        "        # Devolver los datos generales, índices de usuario, índices de producto y objetivo correspondientes al índice dado\n",
        "        return self.x[index], self.user_idx[index], self.product_idx[index], self.y[index]"
      ]
    },
    {
      "cell_type": "code",
      "execution_count": 49,
      "metadata": {},
      "outputs": [],
      "source": [
        "# Crear conjuntos de datos con incrustaciones para entrenamiento, validación y pruebas\n",
        "train_df_embeddings = DatasetWithEmbeddings(train_x, user_idx_train, product_idx_train, train_y)\n",
        "validation_df_embeddings = DatasetWithEmbeddings(valid_x, user_idx_validation, product_idx_validation, valid_y)\n",
        "test_df_embeddings = DatasetWithEmbeddings(test_x, user_idx_test, product_idx_test, test_y)\n"
      ]
    },
    {
      "cell_type": "code",
      "execution_count": 50,
      "metadata": {},
      "outputs": [],
      "source": [
        "# Crear dataloaders para los conjuntos de datos con incrustaciones de entrenamiento, validación y pruebas\n",
        "train_dataloader_embeddings = DataLoader(train_df_embeddings, batch_size=64, shuffle=True)\n",
        "validation_dataloader_embeddings = DataLoader(validation_df_embeddings, batch_size=64)\n",
        "test_dataloader_embeddings = DataLoader(test_df_embeddings, batch_size=64, shuffle=True)\n"
      ]
    },
    {
      "cell_type": "code",
      "execution_count": 51,
      "metadata": {},
      "outputs": [],
      "source": [
        "# Definición de la arquitectura de la red neuronal con incrustaciones\n",
        "class NNetworkWithEmbeddings(torch.nn.Module):\n",
        "\n",
        "  def __init__(self):\n",
        "    super().__init__()\n",
        "    \n",
        "    # Capa de incrustación para los índices de usuario\n",
        "    self.embeddings_user = torch.nn.Embedding(num_embeddings=5891, embedding_dim=8)\n",
        "    \n",
        "    # Capa de incrustación para los índices de producto\n",
        "    self.embeddings_product = torch.nn.Embedding(num_embeddings=3631, embedding_dim=8)\n",
        "    \n",
        "    # Capa de dropout para regularización\n",
        "    self.dropout_1 = torch.nn.Dropout(p=0.5)\n",
        "    \n",
        "    # Capa lineal 1\n",
        "    self.linear_1 = torch.nn.Linear(in_features=29, out_features=200, bias=True)\n",
        "    \n",
        "    # Función de activación ReLU 1\n",
        "    self.relu_1 = torch.nn.ReLU()\n",
        "    \n",
        "    # Capa lineal 2\n",
        "    self.linear_2 = torch.nn.Linear(in_features=200, out_features=100, bias=True)\n",
        "    \n",
        "    # Función de activación ReLU 2\n",
        "    self.relu_2 = torch.nn.ReLU()\n",
        "    \n",
        "    # Capa de salida\n",
        "    self.output = torch.nn.Linear(in_features=100, out_features=1, bias=True)\n",
        "\n",
        "  def forward(self, x, user_idx, product_idx):\n",
        "    # Obtener las incrustaciones para los índices de usuario y producto\n",
        "    embeddings_output_user = self.embeddings_user(user_idx)\n",
        "    embedding_output_product = self.embeddings_product(product_idx)\n",
        "    \n",
        "    # Concatenar las incrustaciones con las características de entrada\n",
        "    x = torch.cat([x, embeddings_output_user, embedding_output_product], dim=1)\n",
        "    \n",
        "    # Pasar a través de las capas de la red\n",
        "    x = self.linear_1(x)\n",
        "    x = self.dropout_1(x)\n",
        "    x = self.relu_1(x)\n",
        "    x = self.linear_2(x)\n",
        "    x = self.relu_2(x)\n",
        "    x = self.output(x)\n",
        "    return x\n"
      ]
    },
    {
      "cell_type": "code",
      "execution_count": 52,
      "metadata": {},
      "outputs": [],
      "source": [
        "nnnetWithEmbeddings = NNetworkWithEmbeddings()\n",
        "nnnetWithEmbeddings = nnnetWithEmbeddings.to(device)"
      ]
    },
    {
      "cell_type": "code",
      "execution_count": 53,
      "metadata": {},
      "outputs": [
        {
          "data": {
            "text/plain": [
              "NNetworkWithEmbeddings(\n",
              "  (embeddings_user): Embedding(5891, 8)\n",
              "  (embeddings_product): Embedding(3631, 8)\n",
              "  (dropout_1): Dropout(p=0.5, inplace=False)\n",
              "  (linear_1): Linear(in_features=29, out_features=200, bias=True)\n",
              "  (relu_1): ReLU()\n",
              "  (linear_2): Linear(in_features=200, out_features=100, bias=True)\n",
              "  (relu_2): ReLU()\n",
              "  (output): Linear(in_features=100, out_features=1, bias=True)\n",
              ")"
            ]
          },
          "execution_count": 53,
          "metadata": {},
          "output_type": "execute_result"
        }
      ],
      "source": [
        "nnnetWithEmbeddings"
      ]
    },
    {
      "cell_type": "code",
      "execution_count": 54,
      "metadata": {},
      "outputs": [],
      "source": [
        "# Loss function and optimizer\n",
        "loss_function = torch.nn.BCEWithLogitsLoss(reduction='sum')\n",
        "# Optimizador con regularización L2 (parámetro weight_decay)\n",
        "optimizer = torch.optim.Adam(nnnetWithEmbeddings.parameters(), lr=0.005, weight_decay=0.01)"
      ]
    },
    {
      "cell_type": "code",
      "execution_count": 55,
      "metadata": {},
      "outputs": [
        {
          "name": "stdout",
          "output_type": "stream",
          "text": [
            "Época 0 | Pérdida Entrenamiento/Validación/Pruebas: 0.287 / 0.280 / 0.293 | Precisión Entrenamiento/Validación/Pruebas: 0.873 / 0.874 / 0.869\n",
            "Época 1 | Pérdida Entrenamiento/Validación/Pruebas: 0.287 / 0.285 / 0.270 | Precisión Entrenamiento/Validación/Pruebas: 0.873 / 0.872 / 0.879\n",
            "Época 2 | Pérdida Entrenamiento/Validación/Pruebas: 0.287 / 0.296 / 0.260 | Precisión Entrenamiento/Validación/Pruebas: 0.873 / 0.870 / 0.882\n",
            "Época 3 | Pérdida Entrenamiento/Validación/Pruebas: 0.287 / 0.303 / 0.251 | Precisión Entrenamiento/Validación/Pruebas: 0.873 / 0.869 / 0.885\n",
            "Época 4 | Pérdida Entrenamiento/Validación/Pruebas: 0.287 / 0.303 / 0.246 | Precisión Entrenamiento/Validación/Pruebas: 0.873 / 0.868 / 0.886\n",
            "Época 5 | Pérdida Entrenamiento/Validación/Pruebas: 0.287 / 0.312 / 0.244 | Precisión Entrenamiento/Validación/Pruebas: 0.873 / 0.868 / 0.887\n",
            "Época 6 | Pérdida Entrenamiento/Validación/Pruebas: 0.287 / 0.307 / 0.241 | Precisión Entrenamiento/Validación/Pruebas: 0.873 / 0.865 / 0.887\n",
            "Época 7 | Pérdida Entrenamiento/Validación/Pruebas: 0.287 / 0.310 / 0.240 | Precisión Entrenamiento/Validación/Pruebas: 0.873 / 0.865 / 0.887\n",
            "Época 8 | Pérdida Entrenamiento/Validación/Pruebas: 0.287 / 0.322 / 0.239 | Precisión Entrenamiento/Validación/Pruebas: 0.873 / 0.869 / 0.888\n",
            "Época 9 | Pérdida Entrenamiento/Validación/Pruebas: 0.287 / 0.312 / 0.238 | Precisión Entrenamiento/Validación/Pruebas: 0.873 / 0.865 / 0.888\n",
            "Época 10 | Pérdida Entrenamiento/Validación/Pruebas: 0.287 / 0.316 / 0.234 | Precisión Entrenamiento/Validación/Pruebas: 0.873 / 0.867 / 0.888\n",
            "Época 11 | Pérdida Entrenamiento/Validación/Pruebas: 0.287 / 0.316 / 0.234 | Precisión Entrenamiento/Validación/Pruebas: 0.873 / 0.861 / 0.888\n",
            "Época 12 | Pérdida Entrenamiento/Validación/Pruebas: 0.287 / 0.311 / 0.232 | Precisión Entrenamiento/Validación/Pruebas: 0.873 / 0.869 / 0.889\n",
            "Época 13 | Pérdida Entrenamiento/Validación/Pruebas: 0.287 / 0.315 / 0.232 | Precisión Entrenamiento/Validación/Pruebas: 0.873 / 0.859 / 0.888\n",
            "Época 14 | Pérdida Entrenamiento/Validación/Pruebas: 0.287 / 0.323 / 0.231 | Precisión Entrenamiento/Validación/Pruebas: 0.873 / 0.859 / 0.889\n",
            "Época 15 | Pérdida Entrenamiento/Validación/Pruebas: 0.287 / 0.328 / 0.231 | Precisión Entrenamiento/Validación/Pruebas: 0.873 / 0.859 / 0.888\n",
            "Época 16 | Pérdida Entrenamiento/Validación/Pruebas: 0.287 / 0.317 / 0.231 | Precisión Entrenamiento/Validación/Pruebas: 0.873 / 0.865 / 0.889\n",
            "Época 17 | Pérdida Entrenamiento/Validación/Pruebas: 0.287 / 0.320 / 0.230 | Precisión Entrenamiento/Validación/Pruebas: 0.873 / 0.865 / 0.890\n",
            "Época 18 | Pérdida Entrenamiento/Validación/Pruebas: 0.287 / 0.330 / 0.229 | Precisión Entrenamiento/Validación/Pruebas: 0.873 / 0.858 / 0.889\n",
            "Época 19 | Pérdida Entrenamiento/Validación/Pruebas: 0.287 / 0.328 / 0.230 | Precisión Entrenamiento/Validación/Pruebas: 0.873 / 0.865 / 0.889\n",
            "Época 20 | Pérdida Entrenamiento/Validación/Pruebas: 0.287 / 0.328 / 0.227 | Precisión Entrenamiento/Validación/Pruebas: 0.873 / 0.862 / 0.891\n",
            "Época 21 | Pérdida Entrenamiento/Validación/Pruebas: 0.287 / 0.327 / 0.226 | Precisión Entrenamiento/Validación/Pruebas: 0.873 / 0.861 / 0.892\n",
            "Época 22 | Pérdida Entrenamiento/Validación/Pruebas: 0.287 / 0.329 / 0.225 | Precisión Entrenamiento/Validación/Pruebas: 0.873 / 0.862 / 0.892\n",
            "Época 23 | Pérdida Entrenamiento/Validación/Pruebas: 0.287 / 0.330 / 0.226 | Precisión Entrenamiento/Validación/Pruebas: 0.873 / 0.864 / 0.892\n",
            "Época 24 | Pérdida Entrenamiento/Validación/Pruebas: 0.287 / 0.324 / 0.226 | Precisión Entrenamiento/Validación/Pruebas: 0.873 / 0.860 / 0.892\n",
            "Época 25 | Pérdida Entrenamiento/Validación/Pruebas: 0.287 / 0.333 / 0.227 | Precisión Entrenamiento/Validación/Pruebas: 0.873 / 0.865 / 0.892\n",
            "Época 26 | Pérdida Entrenamiento/Validación/Pruebas: 0.287 / 0.326 / 0.225 | Precisión Entrenamiento/Validación/Pruebas: 0.873 / 0.866 / 0.892\n",
            "Época 27 | Pérdida Entrenamiento/Validación/Pruebas: 0.287 / 0.335 / 0.224 | Precisión Entrenamiento/Validación/Pruebas: 0.873 / 0.862 / 0.892\n",
            "Época 28 | Pérdida Entrenamiento/Validación/Pruebas: 0.287 / 0.322 / 0.226 | Precisión Entrenamiento/Validación/Pruebas: 0.873 / 0.863 / 0.891\n",
            "Época 29 | Pérdida Entrenamiento/Validación/Pruebas: 0.287 / 0.323 / 0.225 | Precisión Entrenamiento/Validación/Pruebas: 0.873 / 0.861 / 0.892\n",
            "Época 30 | Pérdida Entrenamiento/Validación/Pruebas: 0.287 / 0.326 / 0.225 | Precisión Entrenamiento/Validación/Pruebas: 0.873 / 0.858 / 0.892\n",
            "Época 31 | Pérdida Entrenamiento/Validación/Pruebas: 0.287 / 0.330 / 0.224 | Precisión Entrenamiento/Validación/Pruebas: 0.873 / 0.861 / 0.893\n",
            "Época 32 | Pérdida Entrenamiento/Validación/Pruebas: 0.287 / 0.329 / 0.224 | Precisión Entrenamiento/Validación/Pruebas: 0.873 / 0.861 / 0.892\n",
            "Época 33 | Pérdida Entrenamiento/Validación/Pruebas: 0.287 / 0.330 / 0.225 | Precisión Entrenamiento/Validación/Pruebas: 0.873 / 0.863 / 0.892\n",
            "Época 34 | Pérdida Entrenamiento/Validación/Pruebas: 0.287 / 0.335 / 0.223 | Precisión Entrenamiento/Validación/Pruebas: 0.873 / 0.863 / 0.891\n",
            "Época 35 | Pérdida Entrenamiento/Validación/Pruebas: 0.287 / 0.329 / 0.223 | Precisión Entrenamiento/Validación/Pruebas: 0.873 / 0.858 / 0.892\n",
            "Época 36 | Pérdida Entrenamiento/Validación/Pruebas: 0.287 / 0.323 / 0.223 | Precisión Entrenamiento/Validación/Pruebas: 0.873 / 0.863 / 0.892\n",
            "Época 37 | Pérdida Entrenamiento/Validación/Pruebas: 0.287 / 0.326 / 0.223 | Precisión Entrenamiento/Validación/Pruebas: 0.873 / 0.859 / 0.892\n",
            "Época 38 | Pérdida Entrenamiento/Validación/Pruebas: 0.287 / 0.325 / 0.222 | Precisión Entrenamiento/Validación/Pruebas: 0.873 / 0.861 / 0.892\n",
            "Época 39 | Pérdida Entrenamiento/Validación/Pruebas: 0.287 / 0.330 / 0.223 | Precisión Entrenamiento/Validación/Pruebas: 0.873 / 0.861 / 0.892\n",
            "Época 40 | Pérdida Entrenamiento/Validación/Pruebas: 0.287 / 0.327 / 0.224 | Precisión Entrenamiento/Validación/Pruebas: 0.873 / 0.860 / 0.892\n",
            "Época 41 | Pérdida Entrenamiento/Validación/Pruebas: 0.287 / 0.330 / 0.220 | Precisión Entrenamiento/Validación/Pruebas: 0.873 / 0.858 / 0.892\n",
            "Época 42 | Pérdida Entrenamiento/Validación/Pruebas: 0.287 / 0.336 / 0.220 | Precisión Entrenamiento/Validación/Pruebas: 0.873 / 0.857 / 0.895\n",
            "Época 43 | Pérdida Entrenamiento/Validación/Pruebas: 0.287 / 0.341 / 0.221 | Precisión Entrenamiento/Validación/Pruebas: 0.873 / 0.865 / 0.893\n",
            "Época 44 | Pérdida Entrenamiento/Validación/Pruebas: 0.287 / 0.332 / 0.219 | Precisión Entrenamiento/Validación/Pruebas: 0.873 / 0.858 / 0.893\n",
            "Época 45 | Pérdida Entrenamiento/Validación/Pruebas: 0.287 / 0.329 / 0.219 | Precisión Entrenamiento/Validación/Pruebas: 0.873 / 0.864 / 0.895\n",
            "Época 46 | Pérdida Entrenamiento/Validación/Pruebas: 0.287 / 0.331 / 0.220 | Precisión Entrenamiento/Validación/Pruebas: 0.873 / 0.865 / 0.893\n",
            "Época 47 | Pérdida Entrenamiento/Validación/Pruebas: 0.287 / 0.338 / 0.218 | Precisión Entrenamiento/Validación/Pruebas: 0.873 / 0.863 / 0.896\n",
            "Época 48 | Pérdida Entrenamiento/Validación/Pruebas: 0.287 / 0.325 / 0.219 | Precisión Entrenamiento/Validación/Pruebas: 0.873 / 0.860 / 0.895\n",
            "Época 49 | Pérdida Entrenamiento/Validación/Pruebas: 0.287 / 0.331 / 0.215 | Precisión Entrenamiento/Validación/Pruebas: 0.873 / 0.854 / 0.895\n",
            "Época 50 | Pérdida Entrenamiento/Validación/Pruebas: 0.287 / 0.330 / 0.218 | Precisión Entrenamiento/Validación/Pruebas: 0.873 / 0.859 / 0.896\n",
            "Época 51 | Pérdida Entrenamiento/Validación/Pruebas: 0.287 / 0.326 / 0.216 | Precisión Entrenamiento/Validación/Pruebas: 0.873 / 0.859 / 0.896\n",
            "Época 52 | Pérdida Entrenamiento/Validación/Pruebas: 0.287 / 0.340 / 0.218 | Precisión Entrenamiento/Validación/Pruebas: 0.873 / 0.857 / 0.897\n",
            "Época 53 | Pérdida Entrenamiento/Validación/Pruebas: 0.287 / 0.338 / 0.217 | Precisión Entrenamiento/Validación/Pruebas: 0.873 / 0.860 / 0.896\n",
            "Época 54 | Pérdida Entrenamiento/Validación/Pruebas: 0.287 / 0.331 / 0.218 | Precisión Entrenamiento/Validación/Pruebas: 0.873 / 0.862 / 0.897\n",
            "Época 55 | Pérdida Entrenamiento/Validación/Pruebas: 0.287 / 0.341 / 0.217 | Precisión Entrenamiento/Validación/Pruebas: 0.873 / 0.860 / 0.897\n",
            "Época 56 | Pérdida Entrenamiento/Validación/Pruebas: 0.287 / 0.327 / 0.216 | Precisión Entrenamiento/Validación/Pruebas: 0.873 / 0.863 / 0.897\n",
            "Época 57 | Pérdida Entrenamiento/Validación/Pruebas: 0.287 / 0.335 / 0.216 | Precisión Entrenamiento/Validación/Pruebas: 0.873 / 0.859 / 0.897\n",
            "Época 58 | Pérdida Entrenamiento/Validación/Pruebas: 0.287 / 0.330 / 0.216 | Precisión Entrenamiento/Validación/Pruebas: 0.873 / 0.859 / 0.898\n",
            "Época 59 | Pérdida Entrenamiento/Validación/Pruebas: 0.287 / 0.341 / 0.214 | Precisión Entrenamiento/Validación/Pruebas: 0.873 / 0.859 / 0.898\n",
            "Época 60 | Pérdida Entrenamiento/Validación/Pruebas: 0.287 / 0.348 / 0.215 | Precisión Entrenamiento/Validación/Pruebas: 0.873 / 0.857 / 0.897\n",
            "Época 61 | Pérdida Entrenamiento/Validación/Pruebas: 0.287 / 0.327 / 0.215 | Precisión Entrenamiento/Validación/Pruebas: 0.873 / 0.861 / 0.898\n",
            "Época 62 | Pérdida Entrenamiento/Validación/Pruebas: 0.287 / 0.323 / 0.214 | Precisión Entrenamiento/Validación/Pruebas: 0.873 / 0.858 / 0.898\n",
            "Época 63 | Pérdida Entrenamiento/Validación/Pruebas: 0.287 / 0.339 / 0.214 | Precisión Entrenamiento/Validación/Pruebas: 0.873 / 0.857 / 0.898\n",
            "Época 64 | Pérdida Entrenamiento/Validación/Pruebas: 0.287 / 0.343 / 0.213 | Precisión Entrenamiento/Validación/Pruebas: 0.873 / 0.860 / 0.900\n",
            "Época 65 | Pérdida Entrenamiento/Validación/Pruebas: 0.287 / 0.342 / 0.214 | Precisión Entrenamiento/Validación/Pruebas: 0.873 / 0.850 / 0.899\n",
            "Época 66 | Pérdida Entrenamiento/Validación/Pruebas: 0.287 / 0.333 / 0.214 | Precisión Entrenamiento/Validación/Pruebas: 0.873 / 0.858 / 0.899\n",
            "Época 67 | Pérdida Entrenamiento/Validación/Pruebas: 0.287 / 0.340 / 0.214 | Precisión Entrenamiento/Validación/Pruebas: 0.873 / 0.854 / 0.900\n",
            "Época 68 | Pérdida Entrenamiento/Validación/Pruebas: 0.287 / 0.346 / 0.214 | Precisión Entrenamiento/Validación/Pruebas: 0.873 / 0.855 / 0.899\n",
            "Época 69 | Pérdida Entrenamiento/Validación/Pruebas: 0.287 / 0.362 / 0.213 | Precisión Entrenamiento/Validación/Pruebas: 0.873 / 0.855 / 0.900\n",
            "Época 70 | Pérdida Entrenamiento/Validación/Pruebas: 0.287 / 0.343 / 0.213 | Precisión Entrenamiento/Validación/Pruebas: 0.873 / 0.855 / 0.901\n",
            "Época 71 | Pérdida Entrenamiento/Validación/Pruebas: 0.287 / 0.337 / 0.212 | Precisión Entrenamiento/Validación/Pruebas: 0.873 / 0.859 / 0.900\n",
            "Época 72 | Pérdida Entrenamiento/Validación/Pruebas: 0.287 / 0.341 / 0.212 | Precisión Entrenamiento/Validación/Pruebas: 0.873 / 0.859 / 0.903\n",
            "Época 73 | Pérdida Entrenamiento/Validación/Pruebas: 0.287 / 0.349 / 0.213 | Precisión Entrenamiento/Validación/Pruebas: 0.873 / 0.856 / 0.901\n",
            "Época 74 | Pérdida Entrenamiento/Validación/Pruebas: 0.287 / 0.350 / 0.210 | Precisión Entrenamiento/Validación/Pruebas: 0.873 / 0.850 / 0.903\n",
            "Época 75 | Pérdida Entrenamiento/Validación/Pruebas: 0.287 / 0.344 / 0.212 | Precisión Entrenamiento/Validación/Pruebas: 0.873 / 0.858 / 0.900\n",
            "Época 76 | Pérdida Entrenamiento/Validación/Pruebas: 0.287 / 0.351 / 0.211 | Precisión Entrenamiento/Validación/Pruebas: 0.873 / 0.858 / 0.900\n",
            "Época 77 | Pérdida Entrenamiento/Validación/Pruebas: 0.287 / 0.345 / 0.208 | Precisión Entrenamiento/Validación/Pruebas: 0.873 / 0.859 / 0.903\n",
            "Época 78 | Pérdida Entrenamiento/Validación/Pruebas: 0.287 / 0.350 / 0.211 | Precisión Entrenamiento/Validación/Pruebas: 0.873 / 0.860 / 0.903\n",
            "Época 79 | Pérdida Entrenamiento/Validación/Pruebas: 0.287 / 0.357 / 0.210 | Precisión Entrenamiento/Validación/Pruebas: 0.873 / 0.851 / 0.902\n",
            "Época 80 | Pérdida Entrenamiento/Validación/Pruebas: 0.287 / 0.337 / 0.212 | Precisión Entrenamiento/Validación/Pruebas: 0.873 / 0.857 / 0.901\n",
            "Época 81 | Pérdida Entrenamiento/Validación/Pruebas: 0.287 / 0.347 / 0.212 | Precisión Entrenamiento/Validación/Pruebas: 0.873 / 0.854 / 0.903\n",
            "Época 82 | Pérdida Entrenamiento/Validación/Pruebas: 0.287 / 0.332 / 0.211 | Precisión Entrenamiento/Validación/Pruebas: 0.873 / 0.854 / 0.903\n",
            "Época 83 | Pérdida Entrenamiento/Validación/Pruebas: 0.287 / 0.341 / 0.209 | Precisión Entrenamiento/Validación/Pruebas: 0.873 / 0.859 / 0.904\n",
            "Época 84 | Pérdida Entrenamiento/Validación/Pruebas: 0.287 / 0.346 / 0.208 | Precisión Entrenamiento/Validación/Pruebas: 0.873 / 0.856 / 0.903\n",
            "Época 85 | Pérdida Entrenamiento/Validación/Pruebas: 0.287 / 0.337 / 0.210 | Precisión Entrenamiento/Validación/Pruebas: 0.873 / 0.855 / 0.903\n",
            "Época 86 | Pérdida Entrenamiento/Validación/Pruebas: 0.287 / 0.337 / 0.209 | Precisión Entrenamiento/Validación/Pruebas: 0.873 / 0.856 / 0.904\n",
            "Época 87 | Pérdida Entrenamiento/Validación/Pruebas: 0.287 / 0.344 / 0.210 | Precisión Entrenamiento/Validación/Pruebas: 0.873 / 0.852 / 0.902\n",
            "Época 88 | Pérdida Entrenamiento/Validación/Pruebas: 0.287 / 0.337 / 0.209 | Precisión Entrenamiento/Validación/Pruebas: 0.873 / 0.856 / 0.904\n",
            "Época 89 | Pérdida Entrenamiento/Validación/Pruebas: 0.287 / 0.341 / 0.209 | Precisión Entrenamiento/Validación/Pruebas: 0.873 / 0.858 / 0.904\n",
            "Época 90 | Pérdida Entrenamiento/Validación/Pruebas: 0.287 / 0.351 / 0.208 | Precisión Entrenamiento/Validación/Pruebas: 0.873 / 0.854 / 0.905\n",
            "Época 91 | Pérdida Entrenamiento/Validación/Pruebas: 0.287 / 0.347 / 0.208 | Precisión Entrenamiento/Validación/Pruebas: 0.873 / 0.853 / 0.904\n",
            "Época 92 | Pérdida Entrenamiento/Validación/Pruebas: 0.287 / 0.341 / 0.209 | Precisión Entrenamiento/Validación/Pruebas: 0.873 / 0.858 / 0.905\n",
            "Época 93 | Pérdida Entrenamiento/Validación/Pruebas: 0.287 / 0.342 / 0.207 | Precisión Entrenamiento/Validación/Pruebas: 0.873 / 0.858 / 0.904\n",
            "Época 94 | Pérdida Entrenamiento/Validación/Pruebas: 0.287 / 0.340 / 0.209 | Precisión Entrenamiento/Validación/Pruebas: 0.873 / 0.855 / 0.905\n",
            "Época 95 | Pérdida Entrenamiento/Validación/Pruebas: 0.287 / 0.351 / 0.207 | Precisión Entrenamiento/Validación/Pruebas: 0.873 / 0.855 / 0.905\n",
            "Época 96 | Pérdida Entrenamiento/Validación/Pruebas: 0.287 / 0.338 / 0.207 | Precisión Entrenamiento/Validación/Pruebas: 0.873 / 0.851 / 0.904\n",
            "Época 97 | Pérdida Entrenamiento/Validación/Pruebas: 0.287 / 0.354 / 0.210 | Precisión Entrenamiento/Validación/Pruebas: 0.873 / 0.856 / 0.903\n",
            "Época 98 | Pérdida Entrenamiento/Validación/Pruebas: 0.287 / 0.338 / 0.208 | Precisión Entrenamiento/Validación/Pruebas: 0.873 / 0.854 / 0.904\n",
            "Época 99 | Pérdida Entrenamiento/Validación/Pruebas: 0.287 / 0.349 / 0.208 | Precisión Entrenamiento/Validación/Pruebas: 0.873 / 0.848 / 0.904\n"
          ]
        }
      ],
      "source": [
        "# Número de épocas\n",
        "epochs = 100\n",
        "\n",
        "# Listas para almacenar las pérdidas por época\n",
        "train_loss_by_epoch = []\n",
        "valid_loss_by_epoch = []\n",
        "test_loss_by_epoch = []\n",
        "\n",
        "# Bucle principal para las épocas\n",
        "for epoch in range(epochs):\n",
        "\n",
        "  ## Entrenamiento ##\n",
        "\n",
        "  # Establecer la red en modo de entrenamiento\n",
        "  nnnetWithEmbeddings.train(True)\n",
        "\n",
        "  epoch_loss = 0\n",
        "  epoch_y_hat = []\n",
        "  epoch_y = []\n",
        "\n",
        "  # Bucle para los lotes en el dataloader de entrenamiento con incrustaciones\n",
        "  for i, data in enumerate(train_dataloader_embeddings):\n",
        "    # Obtener el lote de datos para el entrenamiento\n",
        "    x_batch, user_idx_batch, product_idx_batch, y_batch = data\n",
        "    # Enviar el lote al dispositivo donde se entrenará la red\n",
        "    x_batch = x_batch.to(device).float()\n",
        "    user_idx_batch = user_idx_batch.to(device).int()\n",
        "    product_idx_batch = product_idx_batch.to(device).int()\n",
        "    y_batch = y_batch.to(device).float().reshape(-1, 1)\n",
        "\n",
        "    ## Propagación hacia adelante ##\n",
        "\n",
        "    # Limpiar el optimizador para comenzar un nuevo cálculo de gradientes\n",
        "    optimizer.zero_grad()\n",
        "    nnet_output = nnnetWithEmbeddings(x_batch, user_idx_batch, product_idx_batch)\n",
        "    y_batch_hat = torch.sigmoid(nnet_output)\n",
        "\n",
        "    # Calcular la pérdida\n",
        "    loss = loss_function(nnet_output, y_batch)\n",
        "\n",
        "    ## Retropropagación ##\n",
        "\n",
        "    loss.backward()\n",
        "\n",
        "    # Actualizar los parámetros\n",
        "    optimizer.step()\n",
        "\n",
        "    # Almacenar los valores y predicciones para calcular las métricas\n",
        "    epoch_y += list(y_batch.detach().cpu().numpy())\n",
        "    epoch_y_hat += list(y_batch_hat.detach().cpu().numpy())\n",
        "\n",
        "    epoch_loss = epoch_loss + loss.item()\n",
        "\n",
        "  # Calcular el promedio de la pérdida\n",
        "  epoch_loss = epoch_loss / n_train\n",
        "  # Almacenar los valores de pérdida para graficar\n",
        "  train_loss_by_epoch.append(epoch_loss)\n",
        "  # Calcular la métrica por época\n",
        "  accuracy = metrics.accuracy_score(epoch_y, [j>=0.5 for j in epoch_y_hat])\n",
        "\n",
        "\n",
        "for epoch in range(epochs):\n",
        "\n",
        "  ## Pruebas ##\n",
        "\n",
        "  # Establecer la red en modo de entrenamiento\n",
        "  nnnetWithEmbeddings.train(True)\n",
        "\n",
        "  test_epoch_loss = 0\n",
        "  test_epoch_y_hat = []\n",
        "  test_epoch_y = []\n",
        "\n",
        "  # Bucle para los lotes en el dataloader de pruebas con incrustaciones\n",
        "  for i, data in enumerate(test_dataloader_embeddings):\n",
        "    # Obtener el lote de datos para las pruebas\n",
        "    x_batch, user_idx_batch, product_idx_batch, y_batch = data\n",
        "    # Enviar el lote al dispositivo donde se entrenará la red\n",
        "    x_batch = x_batch.to(device).float()\n",
        "    user_idx_batch = user_idx_batch.to(device).int()\n",
        "    product_idx_batch = product_idx_batch.to(device).int()\n",
        "    y_batch = y_batch.to(device).float().reshape(-1, 1)\n",
        "\n",
        "    ## Propagación hacia adelante ##\n",
        "\n",
        "    # Limpiar el optimizador para comenzar un nuevo cálculo de gradientes\n",
        "    optimizer.zero_grad()\n",
        "    nnet_output = nnnetWithEmbeddings(x_batch, user_idx_batch, product_idx_batch)\n",
        "    y_batch_hat = torch.sigmoid(nnet_output)\n",
        "\n",
        "    # Calcular la pérdida\n",
        "    loss = loss_function(nnet_output, y_batch)\n",
        "\n",
        "    ## Retropropagación ##\n",
        "\n",
        "    loss.backward()\n",
        "\n",
        "    # Actualizar los parámetros\n",
        "    optimizer.step()\n",
        "\n",
        "    # Almacenar los valores y predicciones para calcular las métricas\n",
        "    test_epoch_y += list(y_batch.detach().cpu().numpy())\n",
        "    test_epoch_y_hat += list(y_batch_hat.detach().cpu().numpy())\n",
        "\n",
        "    test_epoch_loss = test_epoch_loss + loss.item()\n",
        "\n",
        "  # Calcular el promedio de la pérdida\n",
        "  test_epoch_loss = test_epoch_loss / n_test\n",
        "  # Almacenar los valores de pérdida para graficar\n",
        "  test_loss_by_epoch.append(test_epoch_loss)\n",
        "  # Calcular la métrica por época\n",
        "  test_accuracy = metrics.accuracy_score(test_epoch_y, [j>=0.5 for j in test_epoch_y_hat])\n",
        "\n",
        "\n",
        "  ## Validación ##\n",
        "\n",
        "  # Desactivar el cálculo de gradientes\n",
        "  nnnetWithEmbeddings.train(False)\n",
        "\n",
        "  valid_epoch_loss = 0\n",
        "  valid_epoch_y_hat = []\n",
        "  valid_epoch_y = []\n",
        "\n",
        "  # Bucle para los lotes en el dataloader de validación con incrustaciones\n",
        "  for i, data in enumerate(validation_dataloader_embeddings):\n",
        "    # Obtener los datos del lote de validación\n",
        "    x_batch, user_idx_batch, product_idx_batch, y_batch = data\n",
        "    # Enviar los lotes al dispositivo donde se entrenará la red\n",
        "    x_batch = x_batch.to(device).float()\n",
        "    user_idx_batch = user_idx_batch.to(device).int()\n",
        "    product_idx_batch = product_idx_batch.to(device).int()\n",
        "    y_batch = y_batch.to(device).float().reshape(-1, 1)\n",
        "\n",
        "    ## Propagación hacia adelante ##\n",
        "\n",
        "    nnet_output = nnnetWithEmbeddings(x_batch, user_idx_batch, product_idx_batch)\n",
        "    y_batch_hat = torch.sigmoid(nnet_output)\n",
        "\n",
        "    # Calcular la pérdida\n",
        "    loss = loss_function(nnet_output, y_batch)\n",
        "\n",
        "    # En validación no se realiza la retropropagación\n",
        "\n",
        "    # Almacenar los valores y predicciones para calcular las métricas\n",
        "    valid_epoch_y += list(y_batch.detach().cpu().numpy())\n",
        "    valid_epoch_y_hat += list(y_batch_hat.detach().cpu().numpy())\n",
        "\n",
        "    valid_epoch_loss = valid_epoch_loss + loss.item()\n",
        "\n",
        "  # Calcular el promedio de la pérdida\n",
        "  valid_epoch_loss = valid_epoch_loss / n_valid\n",
        "  # Almacenar los valores de pérdida para graficar\n",
        "  valid_loss_by_epoch.append(valid_epoch_loss)\n",
        "  # Calcular la métrica por época\n",
        "  valid_accuracy = metrics.accuracy_score(valid_epoch_y, [j>=0.5 for j in valid_epoch_y_hat])\n",
        "\n",
        "  ## Imprimir los resultados por época ##\n",
        "\n",
        "  print(f\"Época {epoch} | \" \\\n",
        "        f\"Pérdida Entrenamiento/Validación/Pruebas: {epoch_loss:.3f} / {valid_epoch_loss:.3f} / {test_epoch_loss:.3f} | \" \\\n",
        "        f\"Precisión Entrenamiento/Validación/Pruebas: {accuracy:.3f} / {valid_accuracy:.3f} / {test_accuracy:.3f}\")\n"
      ]
    },
    {
      "cell_type": "code",
      "execution_count": 56,
      "metadata": {},
      "outputs": [
        {
          "data": {
            "text/plain": [
              "Text(0, 0.5, 'BCE')"
            ]
          },
          "execution_count": 56,
          "metadata": {},
          "output_type": "execute_result"
        },
        {
          "data": {
            "image/png": "[encoded data removed]",
            "text/plain": [
              "<Figure size 640x480 with 1 Axes>"
            ]
          },
          "metadata": {},
          "output_type": "display_data"
        }
      ],
      "source": [
        "# Crear una figura y un eje para el gráfico de pérdida por época\n",
        "fig, ax1 = plt.subplots(1, 1)\n",
        "\n",
        "# Graficar la pérdida de entrenamiento, validación y pruebas\n",
        "ax1.plot(train_loss_by_epoch, label=\"Pérdida de entrenamiento\")\n",
        "ax1.plot(valid_loss_by_epoch, label=\"Pérdida de validación\")\n",
        "ax1.plot(test_loss_by_epoch, label=\"Pérdida de pruebas\")\n",
        "\n",
        "# Agregar una leyenda al gráfico\n",
        "ax1.legend()\n",
        "\n",
        "# Configurar el título del gráfico\n",
        "ax1.set_title(\"Pérdida por época\")\n",
        "\n",
        "# Configurar etiquetas en el eje x y el eje y\n",
        "ax1.set_xlabel(\"Época\")\n",
        "ax1.set_ylabel(\"BCE\")\n",
        "\n",
        "#como se visualiza en el grafico presencia de overfitting\n"
      ]
    }
  ],
  "metadata": {
    "colab": {
      "provenance": []
    },
    "kernelspec": {
      "display_name": "Python 3",
      "name": "python3"
    },
    "language_info": {
      "codemirror_mode": {
        "name": "ipython",
        "version": 3
      },
      "file_extension": ".py",
      "mimetype": "text/x-python",
      "name": "python",
      "nbconvert_exporter": "python",
      "pygments_lexer": "ipython3",
      "version": "3.9.7"
    }
  },
  "nbformat": 4,
  "nbformat_minor": 0
}
